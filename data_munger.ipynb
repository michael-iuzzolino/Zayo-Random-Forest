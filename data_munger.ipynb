{
 "cells": [
  {
   "cell_type": "code",
   "execution_count": 1,
   "metadata": {
    "collapsed": true
   },
   "outputs": [],
   "source": [
    "import numpy as np\n",
    "import pandas as pd\n",
    "import re\n",
    "\n",
    "from collections import Counter"
   ]
  },
  {
   "cell_type": "markdown",
   "metadata": {},
   "source": [
    "# Open Files as DataFrames"
   ]
  },
  {
   "cell_type": "code",
   "execution_count": 2,
   "metadata": {
    "collapsed": false
   },
   "outputs": [],
   "source": [
    "# Setup names to avoid\n",
    "acct_names = [col_head.replace(u'\\ufeff', '').strip() for col_head in pd.read_csv(\"data/accounts.csv\").columns]\n",
    "cpq_names = [col_head.replace(u'\\ufeff', '').strip() for col_head in pd.read_csv(\"data/cpqs.csv\").columns]\n",
    "opp_names = [col_head.replace(u'\\ufeff', '').strip() for col_head in pd.read_csv(\"data/opportunities.csv\").columns]\n",
    "bldg_names = [col_head.replace(u'\\ufeff', '').strip() for col_head in pd.read_csv(\"data/buildings.csv\").columns]\n",
    "\n",
    "# Read in from csv\n",
    "accts = pd.read_csv(\"data/accounts.csv\", names=acct_names, skiprows=1)\n",
    "cpqs = pd.read_csv(\"data/cpqs.csv\", names=cpq_names, skiprows=1)\n",
    "opps = pd.read_csv(\"data/opportunities.csv\", names=opp_names, skiprows=1)\n",
    "bldgs = pd.read_csv(\"data/buildings.csv\", names=bldg_names, skiprows=1)"
   ]
  },
  {
   "cell_type": "markdown",
   "metadata": {},
   "source": [
    "# Add Features of Interest from Other Dataframes to OPPS dataframe"
   ]
  },
  {
   "cell_type": "code",
   "execution_count": 3,
   "metadata": {
    "collapsed": false
   },
   "outputs": [],
   "source": [
    "# Define features of interest from other sheets\n",
    "features_of_interest = {\n",
    "                        \"DandB Total Employees\" : int, \n",
    "                        \"Latitude\" : float ,\n",
    "                        \"Longitude\" : float,\n",
    "                        \"Net Classification\" : str,\n",
    "                        \"Building Type\" : str,\n",
    "                        \"Estimated Build Cost\" : float,\n",
    "                        \"X36 MRC List\" : float, \n",
    "                        \"X36 NRR List\" : float, \n",
    "                        \"X36 NPV List\" : float,\n",
    "                        \"Industry\" : str, \n",
    "                        \"Vertical\" : str, \n",
    "                        \"AnnualRevenue\" : float, \n",
    "                        \"NumberOfEmployees\" : float \n",
    "                        }\n",
    "\n",
    "# Append series to DataFrame for each feature of interest\n",
    "for feature_of_interest, feature_dtype in features_of_interest.items():\n",
    "    opps[feature_of_interest] = pd.Series(dtype=feature_dtype)"
   ]
  },
  {
   "cell_type": "markdown",
   "metadata": {},
   "source": [
    "## Define number of rows in dataframe"
   ]
  },
  {
   "cell_type": "code",
   "execution_count": 4,
   "metadata": {
    "collapsed": false
   },
   "outputs": [
    {
     "data": {
      "text/plain": [
       "5345"
      ]
     },
     "execution_count": 4,
     "metadata": {},
     "output_type": "execute_result"
    }
   ],
   "source": [
    "number_of_observations = len(opps)\n",
    "\n",
    "number_of_observations"
   ]
  },
  {
   "cell_type": "code",
   "execution_count": 5,
   "metadata": {
    "collapsed": false
   },
   "outputs": [
    {
     "data": {
      "text/html": [
       "<div>\n",
       "<table border=\"1\" class=\"dataframe\">\n",
       "  <thead>\n",
       "    <tr style=\"text-align: right;\">\n",
       "      <th></th>\n",
       "      <th>Opportunity ID</th>\n",
       "      <th>Account ID</th>\n",
       "      <th>StageName</th>\n",
       "      <th>IsClosed</th>\n",
       "      <th>IsWon</th>\n",
       "      <th>CreatedDate</th>\n",
       "      <th>Term in Months</th>\n",
       "      <th>Service</th>\n",
       "      <th>Opportunity Type</th>\n",
       "      <th>Product Group</th>\n",
       "      <th>...</th>\n",
       "      <th>X36 NPV List</th>\n",
       "      <th>Net Classification</th>\n",
       "      <th>NumberOfEmployees</th>\n",
       "      <th>Vertical</th>\n",
       "      <th>X36 MRC List</th>\n",
       "      <th>Estimated Build Cost</th>\n",
       "      <th>Latitude</th>\n",
       "      <th>Building Type</th>\n",
       "      <th>Industry</th>\n",
       "      <th>DandB Total Employees</th>\n",
       "    </tr>\n",
       "  </thead>\n",
       "  <tbody>\n",
       "    <tr>\n",
       "      <th>0</th>\n",
       "      <td>Opp-000001</td>\n",
       "      <td>Acct-000007</td>\n",
       "      <td>Closed - Lost</td>\n",
       "      <td>True</td>\n",
       "      <td>False</td>\n",
       "      <td>7/1/16</td>\n",
       "      <td>12.0</td>\n",
       "      <td>NaN</td>\n",
       "      <td>New Service</td>\n",
       "      <td>Ethernet</td>\n",
       "      <td>...</td>\n",
       "      <td>NaN</td>\n",
       "      <td>NaN</td>\n",
       "      <td>NaN</td>\n",
       "      <td>NaN</td>\n",
       "      <td>NaN</td>\n",
       "      <td>NaN</td>\n",
       "      <td>NaN</td>\n",
       "      <td>NaN</td>\n",
       "      <td>NaN</td>\n",
       "      <td>NaN</td>\n",
       "    </tr>\n",
       "    <tr>\n",
       "      <th>1</th>\n",
       "      <td>Opp-000002</td>\n",
       "      <td>Acct-000986</td>\n",
       "      <td>5 - Accepted</td>\n",
       "      <td>True</td>\n",
       "      <td>True</td>\n",
       "      <td>7/1/16</td>\n",
       "      <td>60.0</td>\n",
       "      <td>NaN</td>\n",
       "      <td>New Service</td>\n",
       "      <td>Dark Fiber - Metro</td>\n",
       "      <td>...</td>\n",
       "      <td>NaN</td>\n",
       "      <td>NaN</td>\n",
       "      <td>NaN</td>\n",
       "      <td>NaN</td>\n",
       "      <td>NaN</td>\n",
       "      <td>NaN</td>\n",
       "      <td>NaN</td>\n",
       "      <td>NaN</td>\n",
       "      <td>NaN</td>\n",
       "      <td>NaN</td>\n",
       "    </tr>\n",
       "    <tr>\n",
       "      <th>2</th>\n",
       "      <td>Opp-000002</td>\n",
       "      <td>Acct-000986</td>\n",
       "      <td>5 - Accepted</td>\n",
       "      <td>True</td>\n",
       "      <td>True</td>\n",
       "      <td>7/1/16</td>\n",
       "      <td>60.0</td>\n",
       "      <td>NaN</td>\n",
       "      <td>New Service</td>\n",
       "      <td>Dark Fiber - Metro</td>\n",
       "      <td>...</td>\n",
       "      <td>NaN</td>\n",
       "      <td>NaN</td>\n",
       "      <td>NaN</td>\n",
       "      <td>NaN</td>\n",
       "      <td>NaN</td>\n",
       "      <td>NaN</td>\n",
       "      <td>NaN</td>\n",
       "      <td>NaN</td>\n",
       "      <td>NaN</td>\n",
       "      <td>NaN</td>\n",
       "    </tr>\n",
       "  </tbody>\n",
       "</table>\n",
       "<p>3 rows × 31 columns</p>\n",
       "</div>"
      ],
      "text/plain": [
       "  Opportunity ID   Account ID      StageName IsClosed  IsWon CreatedDate  \\\n",
       "0     Opp-000001  Acct-000007  Closed - Lost     True  False      7/1/16   \n",
       "1     Opp-000002  Acct-000986   5 - Accepted     True   True      7/1/16   \n",
       "2     Opp-000002  Acct-000986   5 - Accepted     True   True      7/1/16   \n",
       "\n",
       "   Term in Months Service Opportunity Type       Product Group  \\\n",
       "0            12.0     NaN      New Service            Ethernet   \n",
       "1            60.0     NaN      New Service  Dark Fiber - Metro   \n",
       "2            60.0     NaN      New Service  Dark Fiber - Metro   \n",
       "\n",
       "           ...           X36 NPV List Net Classification NumberOfEmployees  \\\n",
       "0          ...                    NaN                NaN               NaN   \n",
       "1          ...                    NaN                NaN               NaN   \n",
       "2          ...                    NaN                NaN               NaN   \n",
       "\n",
       "  Vertical X36 MRC List  Estimated Build Cost  Latitude Building Type  \\\n",
       "0      NaN          NaN                   NaN       NaN           NaN   \n",
       "1      NaN          NaN                   NaN       NaN           NaN   \n",
       "2      NaN          NaN                   NaN       NaN           NaN   \n",
       "\n",
       "   Industry  DandB Total Employees  \n",
       "0       NaN                    NaN  \n",
       "1       NaN                    NaN  \n",
       "2       NaN                    NaN  \n",
       "\n",
       "[3 rows x 31 columns]"
      ]
     },
     "execution_count": 5,
     "metadata": {},
     "output_type": "execute_result"
    }
   ],
   "source": [
    "opps.head(3)"
   ]
  },
  {
   "cell_type": "markdown",
   "metadata": {},
   "source": [
    "# Clean and add column data from other sheets for respective features of interest"
   ]
  },
  {
   "cell_type": "code",
   "execution_count": null,
   "metadata": {
    "collapsed": false
   },
   "outputs": [],
   "source": [
    "for i in range(0, number_of_observations):\n",
    "    account_id = opps[\"Account ID\"][i]\n",
    "    building_id = opps[\"Building ID\"][i]\n",
    "    \n",
    "    value_1  = list(accts[accts[\"Account ID\"]==account_id][\"DandB Total Employees\"])\n",
    "    value_2  = list(bldgs[bldgs[\"Building ID\"]==building_id][\"Net Classification\"])\n",
    "    value_3  = list(bldgs[bldgs[\"Building ID\"]==building_id][\"Type\"])\n",
    "    value_4  = list(bldgs[bldgs[\"Building ID\"]==building_id][\"Estimated Build Cost\"])\n",
    "    value_5  = list(cpqs[cpqs[\"Account ID\"]==account_id][\"X36 MRC List\"])\n",
    "    value_6  = list(cpqs[cpqs[\"Account ID\"]==account_id][\"X36 NRR List\"])\n",
    "    value_7  = list(cpqs[cpqs[\"Account ID\"]==account_id][\"X36 NPV List\"])\n",
    "    value_8  = list(accts[accts[\"Account ID\"]==account_id][\"Industry\"])\n",
    "    value_9  = list(accts[accts[\"Account ID\"]==account_id][\"Vertical\"])\n",
    "    value_10 = list(accts[accts[\"Account ID\"]==account_id][\"Total BRR\"])\n",
    "    value_11 = list(accts[accts[\"Account ID\"]==account_id][\"AnnualRevenue\"])\n",
    "    value_12 = list(accts[accts[\"Account ID\"]==account_id][\"NumberOfEmployees\"])\n",
    "    value_13 = list(bldgs[bldgs[\"Building ID\"]==building_id][\"Latitude\"])\n",
    "    value_14 = list(bldgs[bldgs[\"Building ID\"]==building_id][\"Longitude\"])\n",
    "    \n",
    "    # Check that city value is a string - if not, set to unknown\n",
    "    if type(opps[\"City\"][i])!=str:\n",
    "        opps.set_value(i, \"City\", \"unknown\")\n",
    "        \n",
    "    \n",
    "    \n",
    "    \"\"\" Process features of interest \"\"\"\n",
    "    \"\"\" ---------------------------- \"\"\"\n",
    "    \n",
    "    # Process value 1 - DandB Total Employees\n",
    "    if len(value_1) == 0:\n",
    "        opps.set_value(i, \"DandB Total Employees\", 0)\n",
    "    else:\n",
    "        opps.set_value(i, \"DandB Total Employees\", np.average([int(val) for val in value_1]))\n",
    "\n",
    "    \n",
    "    # Process value 2 - Net Classification\n",
    "    if len(value_2) == 0:\n",
    "        opps.set_value(i, \"Net Classification\", \"unknown\")\n",
    "    else:\n",
    "        opps.set_value(i, \"Net Classification\", Counter(value_2).most_common(1)[0][0])\n",
    "        \n",
    "        \n",
    "    # Process value 3 - Building Type\n",
    "    if len(value_3) == 0:\n",
    "        opps.set_value(i, \"Type\", \"unknown\")\n",
    "    else:\n",
    "        opps.set_value(i, \"Type\", Counter(value_3).most_common(1)[0][0])\n",
    "        \n",
    "        \n",
    "    # Process value 4 - Estimated Build Cost\n",
    "    if len(value_4) == 0:\n",
    "        opps.set_value(i, \"Estimated Build Cost\", 0.0)\n",
    "    else:\n",
    "        new_value_4 = [float(re.sub('[!@#$,]', '', val).strip()) for val in value_4]\n",
    "        opps.set_value(i, \"Estimated Build Cost\", np.average(new_value_4))\n",
    "        \n",
    "        \n",
    "    # Process value 5 - X36 MRC List\n",
    "    if len(value_5) == 0:\n",
    "        opps.set_value(i, \"X36 MRC List\", 0.0)\n",
    "    else:\n",
    "        new_value_5 = [float(re.sub('[!@#$,]', '', val).strip()) for val in value_5]\n",
    "        opps.set_value(i, \"X36 MRC List\", np.average(new_value_5))\n",
    "        \n",
    "        \n",
    "    # Process value 6 - X36 NRR List\n",
    "    if len(value_6) == 0:\n",
    "        opps.set_value(i, \"X36 NRR List\", 0.0)\n",
    "    else:\n",
    "        new_value_6 = [float(re.sub('[!@#$,]', '', val).strip()) for val in value_6]\n",
    "        opps.set_value(i, \"X36 NRR List\", np.average(new_value_6))\n",
    "        \n",
    "        \n",
    "    # Process value 7 - X36 NPV List\n",
    "    if len(value_7) == 0:\n",
    "        opps.set_value(i, \"X36 NPV List\", 0.0)\n",
    "    else:\n",
    "        new_value_7 = [float(re.sub('[!@#$,]', '', val).strip()) for val in value_7]\n",
    "        opps.set_value(i, \"X36 NPV List\", np.average(new_value_7))\n",
    "        \n",
    "        \n",
    "    # Process value 8 - Industry\n",
    "    if len(value_8) == 0:\n",
    "        opps.set_value(i, \"Type\", \"unknown\")\n",
    "    else:\n",
    "        opps.set_value(i, \"Type\", Counter(value_8).most_common(1)[0][0])\n",
    "        \n",
    "        \n",
    "    # Process value 9 - Vertical\n",
    "    if len(value_9) == 0:\n",
    "        opps.set_value(i, \"Vertical\", \"unknown\")\n",
    "    else:\n",
    "        opps.set_value(i, \"Vertical\", Counter(value_9).most_common(1)[0][0])\n",
    "        \n",
    "        \n",
    "    # Process value 10 - Total BRR\n",
    "    if len(value_10) == 0:\n",
    "        opps.set_value(i, \"Total BRR\", 0.0)\n",
    "    else:\n",
    "        new_value_10 = [float(re.sub('[!@#$,]', '', val).strip()) for val in value_10]\n",
    "        opps.set_value(i, \"Total BRR\", np.average(new_value_10))\n",
    "        \n",
    "        \n",
    "    # Process value 11 - AnnualRevenue\n",
    "    if len(value_11) == 0:\n",
    "        opps.set_value(i, \"AnnualRevenue\", 0.0)\n",
    "    else:\n",
    "        new_value_11 = [float(re.sub('[!@#$,]', '', val).strip()) for val in value_11]\n",
    "        opps.set_value(i, \"AnnualRevenue\", np.average(new_value_11))\n",
    "        \n",
    "        \n",
    "    # Process value 12 - NumberOfEmployees\n",
    "    if len(value_12) == 0:\n",
    "        opps.set_value(i, \"NumberOfEmployees\", 0)\n",
    "    else:\n",
    "        opps.set_value(i, \"NumberOfEmployees\", np.average([int(val) for val in value_12]))\n",
    "        \n",
    "        \n",
    "    # Process value 13 - Latitude\n",
    "    if len(value_13) == 0:\n",
    "        opps.set_value(i, \"Latitude\", 0.0)\n",
    "    else:\n",
    "        opps.set_value(i, \"Latitude\", np.average([float(val) for val in value_13]))\n",
    "        \n",
    "        \n",
    "    # Process value 14 - Longitude\n",
    "    if len(value_14) == 0:\n",
    "        opps.set_value(i, \"Longitude\", 0.0)\n",
    "    else:\n",
    "        opps.set_value(i, \"Longitude\", np.average([float(val) for val in value_14]))\n",
    "    \n",
    "    \n",
    "    \n",
    "    \n",
    "    \"\"\" Process features in opps df \"\"\"\n",
    "    \"\"\" --------------------------- \"\"\"\n",
    "    \n",
    "    # Process network proximity\n",
    "    if np.isnan(float(opps[\"Network Proximity\"][i])):\n",
    "        opps.set_value(i, \"Network Proximity\", -1)\n",
    "\n",
    "        \n",
    "    # Process opportunity type\n",
    "    if type(opps[\"Opportunity Type\"][i])==float:\n",
    "        opps.set_value(i, \"Opportunity Type\", \"unknown\")\n",
    "\n",
    "        \n",
    "    # Process Term \n",
    "    if np.isnan(float(opps[\"Term in Months\"][i])):\n",
    "        opps.set_value(i, \"Term in Months\", -1)\n",
    "    else:\n",
    "        opps.set_value(i, \"Term in Months\", float(opps[\"Term in Months\"][i]))"
   ]
  },
  {
   "cell_type": "markdown",
   "metadata": {},
   "source": [
    "### Make backup"
   ]
  },
  {
   "cell_type": "code",
   "execution_count": null,
   "metadata": {
    "collapsed": true
   },
   "outputs": [],
   "source": [
    "opps_backup = opps.copy(deep=True)"
   ]
  },
  {
   "cell_type": "code",
   "execution_count": null,
   "metadata": {
    "collapsed": false
   },
   "outputs": [],
   "source": [
    "opps_backup"
   ]
  },
  {
   "cell_type": "markdown",
   "metadata": {},
   "source": [
    "# Save to CSV"
   ]
  },
  {
   "cell_type": "code",
   "execution_count": null,
   "metadata": {
    "collapsed": true
   },
   "outputs": [],
   "source": [
    "opps.to_csv(\"data/concat_data.csv\")"
   ]
  }
 ],
 "metadata": {
  "anaconda-cloud": {},
  "kernelspec": {
   "display_name": "Python [conda env:py3k]",
   "language": "python",
   "name": "conda-env-py3k-py"
  },
  "language_info": {
   "codemirror_mode": {
    "name": "ipython",
    "version": 3
   },
   "file_extension": ".py",
   "mimetype": "text/x-python",
   "name": "python",
   "nbconvert_exporter": "python",
   "pygments_lexer": "ipython3",
   "version": "3.5.2"
  }
 },
 "nbformat": 4,
 "nbformat_minor": 1
}
