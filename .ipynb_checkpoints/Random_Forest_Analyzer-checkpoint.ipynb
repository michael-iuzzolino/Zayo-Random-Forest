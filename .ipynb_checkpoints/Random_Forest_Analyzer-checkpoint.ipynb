{
 "cells": [
  {
   "cell_type": "markdown",
   "metadata": {},
   "source": [
    "# Import Libraries"
   ]
  },
  {
   "cell_type": "code",
   "execution_count": 1,
   "metadata": {
    "collapsed": true
   },
   "outputs": [],
   "source": [
    "import pandas as pd\n",
    "import numpy as np\n",
    "\n",
    "import matplotlib.pyplot as plt\n",
    "from sklearn import ensemble"
   ]
  },
  {
   "cell_type": "markdown",
   "metadata": {},
   "source": [
    "# Open CSV"
   ]
  },
  {
   "cell_type": "code",
   "execution_count": 2,
   "metadata": {
    "collapsed": false
   },
   "outputs": [],
   "source": [
    "opps = pd.read_csv(\"data/concat_data.csv\")\n",
    "\n",
    "drop_col = opps.columns[0]\n",
    "\n",
    "if \"unnamed\" in drop_col.lower():\n",
    "    opps = opps.drop(drop_col, 1)\n",
    "\n"
   ]
  },
  {
   "cell_type": "markdown",
   "metadata": {},
   "source": [
    "* * *"
   ]
  },
  {
   "cell_type": "markdown",
   "metadata": {},
   "source": [
    "### Save Features before changes\n"
   ]
  },
  {
   "cell_type": "code",
   "execution_count": 3,
   "metadata": {
    "collapsed": false
   },
   "outputs": [],
   "source": [
    "save_features = {\n",
    "                    \"Opportunity ID\" : None,\n",
    "                    \"Account ID\" : None, \n",
    "                    \"Building ID\" : None\n",
    "                }\n",
    "\n",
    "for save_feature in save_features.keys():\n",
    "    save_series = opps[save_feature]\n",
    "    save_features[save_feature] = save_series"
   ]
  },
  {
   "cell_type": "markdown",
   "metadata": {},
   "source": [
    "## Encode String data to ints"
   ]
  },
  {
   "cell_type": "code",
   "execution_count": 4,
   "metadata": {
    "collapsed": false
   },
   "outputs": [
    {
     "data": {
      "text/html": [
       "<div>\n",
       "<table border=\"1\" class=\"dataframe\">\n",
       "  <thead>\n",
       "    <tr style=\"text-align: right;\">\n",
       "      <th></th>\n",
       "      <th>Opportunity ID</th>\n",
       "      <th>Account ID</th>\n",
       "      <th>StageName</th>\n",
       "      <th>IsClosed</th>\n",
       "      <th>IsWon</th>\n",
       "      <th>CreatedDate</th>\n",
       "      <th>Term in Months</th>\n",
       "      <th>Service</th>\n",
       "      <th>Opportunity Type</th>\n",
       "      <th>Product Group</th>\n",
       "      <th>...</th>\n",
       "      <th>X36 NRR List</th>\n",
       "      <th>X36 MRC List</th>\n",
       "      <th>Longitude</th>\n",
       "      <th>Latitude</th>\n",
       "      <th>Industry</th>\n",
       "      <th>Estimated Build Cost</th>\n",
       "      <th>Net Classification</th>\n",
       "      <th>Vertical</th>\n",
       "      <th>Type</th>\n",
       "      <th>Total BRR</th>\n",
       "    </tr>\n",
       "  </thead>\n",
       "  <tbody>\n",
       "    <tr>\n",
       "      <th>0</th>\n",
       "      <td>Opp-000001</td>\n",
       "      <td>Acct-000007</td>\n",
       "      <td>Closed - Lost</td>\n",
       "      <td>True</td>\n",
       "      <td>False</td>\n",
       "      <td>0</td>\n",
       "      <td>12.0</td>\n",
       "      <td>0</td>\n",
       "      <td>0</td>\n",
       "      <td>0</td>\n",
       "      <td>...</td>\n",
       "      <td>1073.717164</td>\n",
       "      <td>1775.345373</td>\n",
       "      <td>-84.391561</td>\n",
       "      <td>33.755431</td>\n",
       "      <td>NaN</td>\n",
       "      <td>11993.5</td>\n",
       "      <td>0</td>\n",
       "      <td>0</td>\n",
       "      <td>0</td>\n",
       "      <td>1334080.00</td>\n",
       "    </tr>\n",
       "    <tr>\n",
       "      <th>1</th>\n",
       "      <td>Opp-000002</td>\n",
       "      <td>Acct-000986</td>\n",
       "      <td>5 - Accepted</td>\n",
       "      <td>True</td>\n",
       "      <td>True</td>\n",
       "      <td>0</td>\n",
       "      <td>60.0</td>\n",
       "      <td>0</td>\n",
       "      <td>0</td>\n",
       "      <td>1</td>\n",
       "      <td>...</td>\n",
       "      <td>4610.000000</td>\n",
       "      <td>3163.050000</td>\n",
       "      <td>-84.060881</td>\n",
       "      <td>34.035421</td>\n",
       "      <td>NaN</td>\n",
       "      <td>21243.7</td>\n",
       "      <td>0</td>\n",
       "      <td>1</td>\n",
       "      <td>1</td>\n",
       "      <td>2910.34</td>\n",
       "    </tr>\n",
       "    <tr>\n",
       "      <th>2</th>\n",
       "      <td>Opp-000002</td>\n",
       "      <td>Acct-000986</td>\n",
       "      <td>5 - Accepted</td>\n",
       "      <td>True</td>\n",
       "      <td>True</td>\n",
       "      <td>0</td>\n",
       "      <td>60.0</td>\n",
       "      <td>0</td>\n",
       "      <td>0</td>\n",
       "      <td>1</td>\n",
       "      <td>...</td>\n",
       "      <td>4610.000000</td>\n",
       "      <td>3163.050000</td>\n",
       "      <td>-84.063305</td>\n",
       "      <td>34.036374</td>\n",
       "      <td>NaN</td>\n",
       "      <td>17522.2</td>\n",
       "      <td>1</td>\n",
       "      <td>1</td>\n",
       "      <td>1</td>\n",
       "      <td>2910.34</td>\n",
       "    </tr>\n",
       "  </tbody>\n",
       "</table>\n",
       "<p>3 rows × 33 columns</p>\n",
       "</div>"
      ],
      "text/plain": [
       "  Opportunity ID   Account ID      StageName IsClosed  IsWon  CreatedDate  \\\n",
       "0     Opp-000001  Acct-000007  Closed - Lost     True  False            0   \n",
       "1     Opp-000002  Acct-000986   5 - Accepted     True   True            0   \n",
       "2     Opp-000002  Acct-000986   5 - Accepted     True   True            0   \n",
       "\n",
       "   Term in Months  Service  Opportunity Type  Product Group     ...      \\\n",
       "0            12.0        0                 0              0     ...       \n",
       "1            60.0        0                 0              1     ...       \n",
       "2            60.0        0                 0              1     ...       \n",
       "\n",
       "  X36 NRR List  X36 MRC List  Longitude   Latitude  Industry  \\\n",
       "0  1073.717164   1775.345373 -84.391561  33.755431       NaN   \n",
       "1  4610.000000   3163.050000 -84.060881  34.035421       NaN   \n",
       "2  4610.000000   3163.050000 -84.063305  34.036374       NaN   \n",
       "\n",
       "   Estimated Build Cost  Net Classification  Vertical  Type   Total BRR  \n",
       "0               11993.5                   0         0     0  1334080.00  \n",
       "1               21243.7                   0         1     1     2910.34  \n",
       "2               17522.2                   1         1     1     2910.34  \n",
       "\n",
       "[3 rows x 33 columns]"
      ]
     },
     "execution_count": 4,
     "metadata": {},
     "output_type": "execute_result"
    }
   ],
   "source": [
    "column_names = list(opps.columns)\n",
    "\n",
    "encode_dict = {}\n",
    "decode_dict = {}\n",
    "\n",
    "# Encode string values to int values\n",
    "for column_name in column_names:\n",
    "    dtype = opps[column_name].dtype\n",
    "    if dtype == object:\n",
    "        \n",
    "        if column_name == \"StageName\" or column_name in save_features:\n",
    "            continue\n",
    "            \n",
    "        current_series = opps[column_name]\n",
    "        current_encode_dict = { key : int(index) for index, key in enumerate(current_series.unique())}\n",
    "        current_decode_dict = { int(index) : key  for index, key in enumerate(current_series.unique())}\n",
    "\n",
    "        \n",
    "        new_series = pd.Series([current_encode_dict[val] for val in current_series])\n",
    "        opps[column_name] = new_series\n",
    "        encode_dict[column_name] = current_encode_dict\n",
    "        decode_dict[column_name] = current_decode_dict\n",
    "\n",
    "opps.fillna(value=0)\n",
    "\n",
    "opps.head(3)\n"
   ]
  },
  {
   "cell_type": "markdown",
   "metadata": {},
   "source": [
    "# Feature Engineering\n",
    "\n",
    "Let's see what we're working with (the opps dataframe!)"
   ]
  },
  {
   "cell_type": "code",
   "execution_count": 5,
   "metadata": {
    "collapsed": false
   },
   "outputs": [
    {
     "data": {
      "text/plain": [
       "Index(['Opportunity ID', 'Account ID', 'StageName', 'IsClosed', 'IsWon',\n",
       "       'CreatedDate', 'Term in Months', 'Service', 'Opportunity Type',\n",
       "       'Product Group', 'Building ID', 'Market', 'Street Address', 'City',\n",
       "       'State', 'Postal Code', 'Network Proximity', 'On Zayo Network Status',\n",
       "       'Building Type', 'NumberOfEmployees', 'DandB Total Employees',\n",
       "       'X36 NPV List', 'AnnualRevenue', 'X36 NRR List', 'X36 MRC List',\n",
       "       'Longitude', 'Latitude', 'Industry', 'Estimated Build Cost',\n",
       "       'Net Classification', 'Vertical', 'Type', 'Total BRR'],\n",
       "      dtype='object')"
      ]
     },
     "execution_count": 5,
     "metadata": {},
     "output_type": "execute_result"
    }
   ],
   "source": [
    "opps.columns"
   ]
  },
  {
   "cell_type": "markdown",
   "metadata": {},
   "source": [
    "### Dropped Features\n",
    "- Opportunity ID\n",
    "- Account ID\n",
    "- IsClosed\n",
    "- IsWon\n",
    "- CreatedDate\n",
    "- Building ID\n",
    "- Street Address\n",
    "- Longitude\n",
    "- Latitude"
   ]
  },
  {
   "cell_type": "code",
   "execution_count": 6,
   "metadata": {
    "collapsed": false
   },
   "outputs": [],
   "source": [
    "drop_features = [\"IsClosed\", \"IsWon\", \"CreatedDate\", \"Street Address\", \"Longitude\", \"Latitude\", \"Opportunity ID\", \"Account ID\", \"Building ID\"]\n",
    "\n",
    "saved_features_df = opps[drop_features].copy()\n",
    "\n",
    "opps_dropped = opps.copy(deep=True)\n",
    "for drop_feature in drop_features:\n",
    "    opps_dropped = opps_dropped.drop(drop_feature, 1)\n"
   ]
  },
  {
   "cell_type": "markdown",
   "metadata": {},
   "source": [
    "#### Confirm Columns are Dropped"
   ]
  },
  {
   "cell_type": "code",
   "execution_count": 7,
   "metadata": {
    "collapsed": false
   },
   "outputs": [
    {
     "name": "stdout",
     "output_type": "stream",
     "text": [
      "Drop Successful!\n"
     ]
    }
   ],
   "source": [
    "drop_success = True\n",
    "for drop_feature in drop_features:\n",
    "    if drop_feature in opps_dropped.columns:\n",
    "        drop_success = False\n",
    "        break\n",
    "        \n",
    "print(\"Drop {}!\".format(\"Successful\" if drop_success else \"Unsuccessful\"))"
   ]
  },
  {
   "cell_type": "markdown",
   "metadata": {},
   "source": [
    "### Aggregate Features\n",
    "\n",
    "StageName "
   ]
  },
  {
   "cell_type": "code",
   "execution_count": 8,
   "metadata": {
    "collapsed": false
   },
   "outputs": [],
   "source": [
    "# Define stage_names series\n",
    "stage_names = opps_dropped[\"StageName\"]\n",
    "\n",
    "# Define sorting for stage names\n",
    "stage_name_sorter = {    \n",
    "                        \"Closed - Lost\" : 0, \n",
    "                        \"1 - Working\" : -1, \n",
    "                        \"2 - Best Case\" : -1, \n",
    "                        \"3 - Committed\" : 1, \n",
    "                        \"4 - Closed\" : 1, \n",
    "                        \"5 - Accepted\" : 1\n",
    "                    }\n",
    "\n",
    "# Loop through stage names and sort\n",
    "clf_data = []\n",
    "clf_unlabeled_data = []\n",
    "clf_unlabeled_data_id_dict = {}\n",
    "\n",
    "for save_feature in save_features:\n",
    "    clf_unlabeled_data_id_dict[save_feature] = []\n",
    "\n",
    "for index, stage_name in enumerate(stage_names):\n",
    "    classifier = stage_name_sorter[stage_name]\n",
    "    \n",
    "    # Save into unlabeled data\n",
    "    if classifier == -1:\n",
    "        clf_unlabeled_data.append(list(opps_dropped.loc[index][1:]))\n",
    "        for save_feature in save_features:\n",
    "            clf_unlabeled_data_id_dict[save_feature].append(save_features[save_feature][index])\n",
    "    \n",
    "    # Save for training data\n",
    "    else:\n",
    "        current_data = list(opps_dropped.loc[index][1:])\n",
    "        current_data.append(classifier)\n",
    "        clf_data.append(current_data)"
   ]
  },
  {
   "cell_type": "markdown",
   "metadata": {},
   "source": [
    "### Training Data Dataframe"
   ]
  },
  {
   "cell_type": "code",
   "execution_count": 9,
   "metadata": {
    "collapsed": false
   },
   "outputs": [
    {
     "data": {
      "text/html": [
       "<div>\n",
       "<table border=\"1\" class=\"dataframe\">\n",
       "  <thead>\n",
       "    <tr style=\"text-align: right;\">\n",
       "      <th></th>\n",
       "      <th>Term in Months</th>\n",
       "      <th>Service</th>\n",
       "      <th>Opportunity Type</th>\n",
       "      <th>Product Group</th>\n",
       "      <th>Market</th>\n",
       "      <th>City</th>\n",
       "      <th>State</th>\n",
       "      <th>Postal Code</th>\n",
       "      <th>Network Proximity</th>\n",
       "      <th>On Zayo Network Status</th>\n",
       "      <th>...</th>\n",
       "      <th>AnnualRevenue</th>\n",
       "      <th>X36 NRR List</th>\n",
       "      <th>X36 MRC List</th>\n",
       "      <th>Industry</th>\n",
       "      <th>Estimated Build Cost</th>\n",
       "      <th>Net Classification</th>\n",
       "      <th>Vertical</th>\n",
       "      <th>Type</th>\n",
       "      <th>Total BRR</th>\n",
       "      <th>Y_Label</th>\n",
       "    </tr>\n",
       "  </thead>\n",
       "  <tbody>\n",
       "    <tr>\n",
       "      <th>0</th>\n",
       "      <td>12.0</td>\n",
       "      <td>0</td>\n",
       "      <td>0</td>\n",
       "      <td>0</td>\n",
       "      <td>0</td>\n",
       "      <td>0</td>\n",
       "      <td>0</td>\n",
       "      <td>30303</td>\n",
       "      <td>66.45</td>\n",
       "      <td>0</td>\n",
       "      <td>...</td>\n",
       "      <td>0.0</td>\n",
       "      <td>1073.717164</td>\n",
       "      <td>1775.345373</td>\n",
       "      <td>0.0</td>\n",
       "      <td>11993.5</td>\n",
       "      <td>0</td>\n",
       "      <td>0</td>\n",
       "      <td>0</td>\n",
       "      <td>1334080.00</td>\n",
       "      <td>0</td>\n",
       "    </tr>\n",
       "    <tr>\n",
       "      <th>1</th>\n",
       "      <td>60.0</td>\n",
       "      <td>0</td>\n",
       "      <td>0</td>\n",
       "      <td>1</td>\n",
       "      <td>0</td>\n",
       "      <td>1</td>\n",
       "      <td>0</td>\n",
       "      <td>30024</td>\n",
       "      <td>374.79</td>\n",
       "      <td>0</td>\n",
       "      <td>...</td>\n",
       "      <td>0.0</td>\n",
       "      <td>4610.000000</td>\n",
       "      <td>3163.050000</td>\n",
       "      <td>0.0</td>\n",
       "      <td>21243.7</td>\n",
       "      <td>0</td>\n",
       "      <td>1</td>\n",
       "      <td>1</td>\n",
       "      <td>2910.34</td>\n",
       "      <td>1</td>\n",
       "    </tr>\n",
       "    <tr>\n",
       "      <th>2</th>\n",
       "      <td>60.0</td>\n",
       "      <td>0</td>\n",
       "      <td>0</td>\n",
       "      <td>1</td>\n",
       "      <td>0</td>\n",
       "      <td>1</td>\n",
       "      <td>0</td>\n",
       "      <td>30024</td>\n",
       "      <td>250.74</td>\n",
       "      <td>0</td>\n",
       "      <td>...</td>\n",
       "      <td>0.0</td>\n",
       "      <td>4610.000000</td>\n",
       "      <td>3163.050000</td>\n",
       "      <td>0.0</td>\n",
       "      <td>17522.2</td>\n",
       "      <td>1</td>\n",
       "      <td>1</td>\n",
       "      <td>1</td>\n",
       "      <td>2910.34</td>\n",
       "      <td>1</td>\n",
       "    </tr>\n",
       "  </tbody>\n",
       "</table>\n",
       "<p>3 rows × 24 columns</p>\n",
       "</div>"
      ],
      "text/plain": [
       "   Term in Months  Service  Opportunity Type  Product Group  Market  City  \\\n",
       "0            12.0        0                 0              0       0     0   \n",
       "1            60.0        0                 0              1       0     1   \n",
       "2            60.0        0                 0              1       0     1   \n",
       "\n",
       "   State  Postal Code  Network Proximity  On Zayo Network Status   ...     \\\n",
       "0      0        30303              66.45                       0   ...      \n",
       "1      0        30024             374.79                       0   ...      \n",
       "2      0        30024             250.74                       0   ...      \n",
       "\n",
       "   AnnualRevenue  X36 NRR List  X36 MRC List  Industry  Estimated Build Cost  \\\n",
       "0            0.0   1073.717164   1775.345373       0.0               11993.5   \n",
       "1            0.0   4610.000000   3163.050000       0.0               21243.7   \n",
       "2            0.0   4610.000000   3163.050000       0.0               17522.2   \n",
       "\n",
       "   Net Classification  Vertical  Type   Total BRR  Y_Label  \n",
       "0                   0         0     0  1334080.00        0  \n",
       "1                   0         1     1     2910.34        1  \n",
       "2                   1         1     1     2910.34        1  \n",
       "\n",
       "[3 rows x 24 columns]"
      ]
     },
     "execution_count": 9,
     "metadata": {},
     "output_type": "execute_result"
    }
   ],
   "source": [
    "# Declare column names and remove StageName\n",
    "column_names = list(opps_dropped.columns)\n",
    "del column_names[column_names.index(\"StageName\")]\n",
    "\n",
    "# Add \"Y_Label\" Column\n",
    "column_names.append(\"Y_Label\")\n",
    "\n",
    "# Define the unlabaled data dataframe\n",
    "clf_data_df = pd.DataFrame(clf_data, columns=column_names)\n",
    "\n",
    "# Fill NaN values\n",
    "clf_data_df = clf_data_df.fillna(value=0.0)\n",
    "\n",
    "clf_data_df.head(3)"
   ]
  },
  {
   "cell_type": "markdown",
   "metadata": {},
   "source": [
    "### Unlabeled Data Dataframe"
   ]
  },
  {
   "cell_type": "code",
   "execution_count": 10,
   "metadata": {
    "collapsed": false
   },
   "outputs": [
    {
     "data": {
      "text/html": [
       "<div>\n",
       "<table border=\"1\" class=\"dataframe\">\n",
       "  <thead>\n",
       "    <tr style=\"text-align: right;\">\n",
       "      <th></th>\n",
       "      <th>Term in Months</th>\n",
       "      <th>Service</th>\n",
       "      <th>Opportunity Type</th>\n",
       "      <th>Product Group</th>\n",
       "      <th>Market</th>\n",
       "      <th>City</th>\n",
       "      <th>State</th>\n",
       "      <th>Postal Code</th>\n",
       "      <th>Network Proximity</th>\n",
       "      <th>On Zayo Network Status</th>\n",
       "      <th>...</th>\n",
       "      <th>X36 NPV List</th>\n",
       "      <th>AnnualRevenue</th>\n",
       "      <th>X36 NRR List</th>\n",
       "      <th>X36 MRC List</th>\n",
       "      <th>Industry</th>\n",
       "      <th>Estimated Build Cost</th>\n",
       "      <th>Net Classification</th>\n",
       "      <th>Vertical</th>\n",
       "      <th>Type</th>\n",
       "      <th>Total BRR</th>\n",
       "    </tr>\n",
       "  </thead>\n",
       "  <tbody>\n",
       "    <tr>\n",
       "      <th>0</th>\n",
       "      <td>-1.0</td>\n",
       "      <td>0</td>\n",
       "      <td>0</td>\n",
       "      <td>0</td>\n",
       "      <td>0</td>\n",
       "      <td>0</td>\n",
       "      <td>0</td>\n",
       "      <td>30309</td>\n",
       "      <td>185.76</td>\n",
       "      <td>0</td>\n",
       "      <td>...</td>\n",
       "      <td>33413.167626</td>\n",
       "      <td>0.000000e+00</td>\n",
       "      <td>1395.266259</td>\n",
       "      <td>2821.670576</td>\n",
       "      <td>0.0</td>\n",
       "      <td>15572.8</td>\n",
       "      <td>0</td>\n",
       "      <td>3</td>\n",
       "      <td>3</td>\n",
       "      <td>0.0</td>\n",
       "    </tr>\n",
       "    <tr>\n",
       "      <th>1</th>\n",
       "      <td>-1.0</td>\n",
       "      <td>0</td>\n",
       "      <td>0</td>\n",
       "      <td>2</td>\n",
       "      <td>0</td>\n",
       "      <td>0</td>\n",
       "      <td>0</td>\n",
       "      <td>30309</td>\n",
       "      <td>185.76</td>\n",
       "      <td>0</td>\n",
       "      <td>...</td>\n",
       "      <td>33413.167626</td>\n",
       "      <td>0.000000e+00</td>\n",
       "      <td>1395.266259</td>\n",
       "      <td>2821.670576</td>\n",
       "      <td>0.0</td>\n",
       "      <td>15572.8</td>\n",
       "      <td>0</td>\n",
       "      <td>3</td>\n",
       "      <td>3</td>\n",
       "      <td>0.0</td>\n",
       "    </tr>\n",
       "    <tr>\n",
       "      <th>2</th>\n",
       "      <td>-1.0</td>\n",
       "      <td>0</td>\n",
       "      <td>0</td>\n",
       "      <td>0</td>\n",
       "      <td>0</td>\n",
       "      <td>0</td>\n",
       "      <td>0</td>\n",
       "      <td>30303</td>\n",
       "      <td>66.45</td>\n",
       "      <td>0</td>\n",
       "      <td>...</td>\n",
       "      <td>23266.981628</td>\n",
       "      <td>1.988192e+11</td>\n",
       "      <td>1126.085581</td>\n",
       "      <td>1285.116977</td>\n",
       "      <td>0.0</td>\n",
       "      <td>11993.5</td>\n",
       "      <td>0</td>\n",
       "      <td>2</td>\n",
       "      <td>2</td>\n",
       "      <td>683378.0</td>\n",
       "    </tr>\n",
       "  </tbody>\n",
       "</table>\n",
       "<p>3 rows × 23 columns</p>\n",
       "</div>"
      ],
      "text/plain": [
       "   Term in Months  Service  Opportunity Type  Product Group  Market  City  \\\n",
       "0            -1.0        0                 0              0       0     0   \n",
       "1            -1.0        0                 0              2       0     0   \n",
       "2            -1.0        0                 0              0       0     0   \n",
       "\n",
       "   State  Postal Code  Network Proximity  On Zayo Network Status    ...      \\\n",
       "0      0        30309             185.76                       0    ...       \n",
       "1      0        30309             185.76                       0    ...       \n",
       "2      0        30303              66.45                       0    ...       \n",
       "\n",
       "   X36 NPV List  AnnualRevenue  X36 NRR List  X36 MRC List  Industry  \\\n",
       "0  33413.167626   0.000000e+00   1395.266259   2821.670576       0.0   \n",
       "1  33413.167626   0.000000e+00   1395.266259   2821.670576       0.0   \n",
       "2  23266.981628   1.988192e+11   1126.085581   1285.116977       0.0   \n",
       "\n",
       "   Estimated Build Cost  Net Classification  Vertical  Type  Total BRR  \n",
       "0               15572.8                   0         3     3        0.0  \n",
       "1               15572.8                   0         3     3        0.0  \n",
       "2               11993.5                   0         2     2   683378.0  \n",
       "\n",
       "[3 rows x 23 columns]"
      ]
     },
     "execution_count": 10,
     "metadata": {},
     "output_type": "execute_result"
    }
   ],
   "source": [
    "# Declare column names and remove StageName\n",
    "column_names = list(opps_dropped.columns)\n",
    "del column_names[column_names.index(\"StageName\")]\n",
    "\n",
    "# Define the unlabaled data dataframe\n",
    "clf_unlabeled_data_df = pd.DataFrame(clf_unlabeled_data, columns=column_names)\n",
    "\n",
    "# Fill NaN values\n",
    "clf_unlabeled_data_df = clf_unlabeled_data_df.fillna(value=0.0)\n",
    "\n",
    "clf_unlabeled_data_df.head(3)"
   ]
  },
  {
   "cell_type": "markdown",
   "metadata": {},
   "source": [
    "# Random Forest"
   ]
  },
  {
   "cell_type": "markdown",
   "metadata": {},
   "source": [
    "### Setup Classifier"
   ]
  },
  {
   "cell_type": "code",
   "execution_count": 11,
   "metadata": {
    "collapsed": true
   },
   "outputs": [],
   "source": [
    "clf_data_df = clf_data_df.fillna(value = 0.0)\n",
    "\n",
    "clf = ensemble.RandomForestClassifier()\n",
    "\n",
    "fraction = 9.0/10.0"
   ]
  },
  {
   "cell_type": "markdown",
   "metadata": {},
   "source": [
    "## Setup Training Data and Fit Classifier"
   ]
  },
  {
   "cell_type": "code",
   "execution_count": 12,
   "metadata": {
    "collapsed": false
   },
   "outputs": [],
   "source": [
    "# Sample the clf data\n",
    "shuffled = clf_data_df.sample(frac=1)\n",
    "\n",
    "# Setup Features and Prediction columns\n",
    "features = list(clf_data_df.columns)\n",
    "del features[features.index(\"Y_Label\")]\n",
    "features_dict = { val:key for val, key in enumerate(features)}\n",
    "prediction = \"Y_Label\"\n",
    "\n",
    "# Setup the Training data\n",
    "trainX = shuffled[features][:int(round(fraction*len(shuffled)))].values\n",
    "trainY = shuffled[prediction][:int(round(fraction*len(shuffled)))].values\n",
    "trainY = np.reshape(trainY, (len(trainY),))\n",
    "\n",
    "# Fit the classifier\n",
    "clf = clf.fit(trainX, trainY)\n"
   ]
  },
  {
   "cell_type": "markdown",
   "metadata": {},
   "source": [
    "## Score"
   ]
  },
  {
   "cell_type": "code",
   "execution_count": 13,
   "metadata": {
    "collapsed": false
   },
   "outputs": [
    {
     "name": "stdout",
     "output_type": "stream",
     "text": [
      "0.792828685259\n"
     ]
    }
   ],
   "source": [
    "testX = shuffled[features][int(round(fraction*len(shuffled))):].values\n",
    "testY = shuffled[prediction][int(round(fraction*len(shuffled))):].values\n",
    "print(clf.score(testX, testY))"
   ]
  },
  {
   "cell_type": "markdown",
   "metadata": {},
   "source": [
    "## Feature Ranking Plot"
   ]
  },
  {
   "cell_type": "code",
   "execution_count": 14,
   "metadata": {
    "collapsed": false
   },
   "outputs": [
    {
     "name": "stdout",
     "output_type": "stream",
     "text": [
      "Feature ranking:\n",
      " 1. Term in Months                 0.1887\n",
      " 2. Total BRR                      0.1153\n",
      " 3. X36 MRC List                   0.0655\n",
      " 4. X36 NPV List                   0.0637\n",
      " 5. X36 NRR List                   0.0612\n",
      " 6. NumberOfEmployees              0.0544\n",
      " 7. Vertical                       0.0543\n",
      " 8. Network Proximity              0.0515\n",
      " 9. Product Group                  0.0493\n",
      "10. Estimated Build Cost           0.0468\n",
      "11. DandB Total Employees          0.0457\n",
      "12. Postal Code                    0.0370\n",
      "13. City                           0.0352\n",
      "14. AnnualRevenue                  0.0346\n",
      "15. Type                           0.0333\n",
      "16. Net Classification             0.0144\n",
      "17. Opportunity Type               0.0121\n",
      "18. State                          0.0106\n",
      "19. Market                         0.0100\n",
      "20. Service                        0.0085\n",
      "21. On Zayo Network Status         0.0078\n",
      "22. Industry                       0.0000\n",
      "23. Building Type                  0.0000\n"
     ]
    },
    {
     "data": {
      "image/png": "[encoded data removed]",
      "text/plain": [
       "<matplotlib.figure.Figure at 0x115c97550>"
      ]
     },
     "metadata": {},
     "output_type": "display_data"
    }
   ],
   "source": [
    "# http://scikit-learn.org/stable/auto_examples/ensemble/plot_forest_importances.html\n",
    "importances = clf.feature_importances_\n",
    "std = np.std([tree.feature_importances_ for tree in clf.estimators_],\n",
    "             axis=0)\n",
    "\n",
    "indices = np.argsort(importances)[::-1]\n",
    "\n",
    "# Print the feature ranking\n",
    "print(\"Feature ranking:\")\n",
    "\n",
    "# Plot the feature importances of the forest\n",
    "x_labels = [features_dict[val] for val in indices]\n",
    "\n",
    "for f in range(trainX.shape[1]):\n",
    "    print(\"{:2d}. {:30s} {:0.4f}\".format(f + 1, x_labels[f], importances[indices[f]]))\n",
    "\n",
    "    \n",
    "\n",
    "\n",
    "\n",
    "plt.figure()\n",
    "plt.title(\"Feature importances\")\n",
    "plt.bar(range(trainX.shape[1]), importances[indices],\n",
    "       color=\"r\", yerr=std[indices], align=\"center\")\n",
    "plt.xticks(range(trainX.shape[1]), x_labels, rotation='vertical')\n",
    "plt.xlim([-1, trainX.shape[1]])\n",
    "plt.show()\n"
   ]
  },
  {
   "cell_type": "markdown",
   "metadata": {},
   "source": [
    "# Find the Accounts of Interest"
   ]
  },
  {
   "cell_type": "code",
   "execution_count": 15,
   "metadata": {
    "collapsed": false
   },
   "outputs": [
    {
     "data": {
      "text/html": [
       "<div>\n",
       "<table border=\"1\" class=\"dataframe\">\n",
       "  <thead>\n",
       "    <tr style=\"text-align: right;\">\n",
       "      <th></th>\n",
       "      <th>Term in Months</th>\n",
       "      <th>Service</th>\n",
       "      <th>Opportunity Type</th>\n",
       "      <th>Product Group</th>\n",
       "      <th>Market</th>\n",
       "      <th>City</th>\n",
       "      <th>State</th>\n",
       "      <th>Postal Code</th>\n",
       "      <th>Network Proximity</th>\n",
       "      <th>On Zayo Network Status</th>\n",
       "      <th>...</th>\n",
       "      <th>X36 NPV List</th>\n",
       "      <th>AnnualRevenue</th>\n",
       "      <th>X36 NRR List</th>\n",
       "      <th>X36 MRC List</th>\n",
       "      <th>Industry</th>\n",
       "      <th>Estimated Build Cost</th>\n",
       "      <th>Net Classification</th>\n",
       "      <th>Vertical</th>\n",
       "      <th>Type</th>\n",
       "      <th>Total BRR</th>\n",
       "    </tr>\n",
       "  </thead>\n",
       "  <tbody>\n",
       "    <tr>\n",
       "      <th>0</th>\n",
       "      <td>-1.0</td>\n",
       "      <td>0</td>\n",
       "      <td>0</td>\n",
       "      <td>0</td>\n",
       "      <td>0</td>\n",
       "      <td>0</td>\n",
       "      <td>0</td>\n",
       "      <td>30309</td>\n",
       "      <td>185.76</td>\n",
       "      <td>0</td>\n",
       "      <td>...</td>\n",
       "      <td>33413.167626</td>\n",
       "      <td>0.0</td>\n",
       "      <td>1395.266259</td>\n",
       "      <td>2821.670576</td>\n",
       "      <td>0.0</td>\n",
       "      <td>15572.8</td>\n",
       "      <td>0</td>\n",
       "      <td>3</td>\n",
       "      <td>3</td>\n",
       "      <td>0.0</td>\n",
       "    </tr>\n",
       "    <tr>\n",
       "      <th>1</th>\n",
       "      <td>-1.0</td>\n",
       "      <td>0</td>\n",
       "      <td>0</td>\n",
       "      <td>2</td>\n",
       "      <td>0</td>\n",
       "      <td>0</td>\n",
       "      <td>0</td>\n",
       "      <td>30309</td>\n",
       "      <td>185.76</td>\n",
       "      <td>0</td>\n",
       "      <td>...</td>\n",
       "      <td>33413.167626</td>\n",
       "      <td>0.0</td>\n",
       "      <td>1395.266259</td>\n",
       "      <td>2821.670576</td>\n",
       "      <td>0.0</td>\n",
       "      <td>15572.8</td>\n",
       "      <td>0</td>\n",
       "      <td>3</td>\n",
       "      <td>3</td>\n",
       "      <td>0.0</td>\n",
       "    </tr>\n",
       "  </tbody>\n",
       "</table>\n",
       "<p>2 rows × 23 columns</p>\n",
       "</div>"
      ],
      "text/plain": [
       "   Term in Months  Service  Opportunity Type  Product Group  Market  City  \\\n",
       "0            -1.0        0                 0              0       0     0   \n",
       "1            -1.0        0                 0              2       0     0   \n",
       "\n",
       "   State  Postal Code  Network Proximity  On Zayo Network Status    ...      \\\n",
       "0      0        30309             185.76                       0    ...       \n",
       "1      0        30309             185.76                       0    ...       \n",
       "\n",
       "   X36 NPV List  AnnualRevenue  X36 NRR List  X36 MRC List  Industry  \\\n",
       "0  33413.167626            0.0   1395.266259   2821.670576       0.0   \n",
       "1  33413.167626            0.0   1395.266259   2821.670576       0.0   \n",
       "\n",
       "   Estimated Build Cost  Net Classification  Vertical  Type  Total BRR  \n",
       "0               15572.8                   0         3     3        0.0  \n",
       "1               15572.8                   0         3     3        0.0  \n",
       "\n",
       "[2 rows x 23 columns]"
      ]
     },
     "execution_count": 15,
     "metadata": {},
     "output_type": "execute_result"
    }
   ],
   "source": [
    "clf_unlabeled_data_df.head(2)"
   ]
  },
  {
   "cell_type": "code",
   "execution_count": 16,
   "metadata": {
    "collapsed": false
   },
   "outputs": [
    {
     "name": "stdout",
     "output_type": "stream",
     "text": [
      "Number of good opportunities: 562\n",
      "Number of bad opportunities: 1223\n"
     ]
    },
    {
     "data": {
      "text/html": [
       "<div>\n",
       "<table border=\"1\" class=\"dataframe\">\n",
       "  <thead>\n",
       "    <tr style=\"text-align: right;\">\n",
       "      <th></th>\n",
       "      <th>Account ID</th>\n",
       "      <th>Opportunity ID</th>\n",
       "      <th>Term in Months</th>\n",
       "      <th>Service</th>\n",
       "      <th>Opportunity Type</th>\n",
       "      <th>Product Group</th>\n",
       "      <th>Market</th>\n",
       "      <th>City</th>\n",
       "      <th>State</th>\n",
       "      <th>Postal Code</th>\n",
       "      <th>...</th>\n",
       "      <th>AnnualRevenue</th>\n",
       "      <th>X36 NRR List</th>\n",
       "      <th>X36 MRC List</th>\n",
       "      <th>Industry</th>\n",
       "      <th>Estimated Build Cost</th>\n",
       "      <th>Net Classification</th>\n",
       "      <th>Vertical</th>\n",
       "      <th>Type</th>\n",
       "      <th>Total BRR</th>\n",
       "      <th>Prediction</th>\n",
       "    </tr>\n",
       "  </thead>\n",
       "  <tbody>\n",
       "    <tr>\n",
       "      <th>0</th>\n",
       "      <td>Acct-000143</td>\n",
       "      <td>Opp-000004</td>\n",
       "      <td>-1.0</td>\n",
       "      <td>0</td>\n",
       "      <td>0</td>\n",
       "      <td>0</td>\n",
       "      <td>0</td>\n",
       "      <td>0</td>\n",
       "      <td>0</td>\n",
       "      <td>30309</td>\n",
       "      <td>...</td>\n",
       "      <td>0.000000e+00</td>\n",
       "      <td>1395.266259</td>\n",
       "      <td>2821.670576</td>\n",
       "      <td>0.0</td>\n",
       "      <td>15572.8</td>\n",
       "      <td>0</td>\n",
       "      <td>3</td>\n",
       "      <td>3</td>\n",
       "      <td>0.0</td>\n",
       "      <td>0</td>\n",
       "    </tr>\n",
       "    <tr>\n",
       "      <th>1</th>\n",
       "      <td>Acct-000143</td>\n",
       "      <td>Opp-000005</td>\n",
       "      <td>-1.0</td>\n",
       "      <td>0</td>\n",
       "      <td>0</td>\n",
       "      <td>2</td>\n",
       "      <td>0</td>\n",
       "      <td>0</td>\n",
       "      <td>0</td>\n",
       "      <td>30309</td>\n",
       "      <td>...</td>\n",
       "      <td>0.000000e+00</td>\n",
       "      <td>1395.266259</td>\n",
       "      <td>2821.670576</td>\n",
       "      <td>0.0</td>\n",
       "      <td>15572.8</td>\n",
       "      <td>0</td>\n",
       "      <td>3</td>\n",
       "      <td>3</td>\n",
       "      <td>0.0</td>\n",
       "      <td>0</td>\n",
       "    </tr>\n",
       "    <tr>\n",
       "      <th>2</th>\n",
       "      <td>Acct-000011</td>\n",
       "      <td>Opp-000006</td>\n",
       "      <td>-1.0</td>\n",
       "      <td>0</td>\n",
       "      <td>0</td>\n",
       "      <td>0</td>\n",
       "      <td>0</td>\n",
       "      <td>0</td>\n",
       "      <td>0</td>\n",
       "      <td>30303</td>\n",
       "      <td>...</td>\n",
       "      <td>1.988192e+11</td>\n",
       "      <td>1126.085581</td>\n",
       "      <td>1285.116977</td>\n",
       "      <td>0.0</td>\n",
       "      <td>11993.5</td>\n",
       "      <td>0</td>\n",
       "      <td>2</td>\n",
       "      <td>2</td>\n",
       "      <td>683378.0</td>\n",
       "      <td>0</td>\n",
       "    </tr>\n",
       "    <tr>\n",
       "      <th>3</th>\n",
       "      <td>Acct-000427</td>\n",
       "      <td>Opp-000011</td>\n",
       "      <td>36.0</td>\n",
       "      <td>0</td>\n",
       "      <td>0</td>\n",
       "      <td>0</td>\n",
       "      <td>2</td>\n",
       "      <td>5</td>\n",
       "      <td>2</td>\n",
       "      <td>75207</td>\n",
       "      <td>...</td>\n",
       "      <td>0.000000e+00</td>\n",
       "      <td>2351.832000</td>\n",
       "      <td>5066.962000</td>\n",
       "      <td>0.0</td>\n",
       "      <td>26388.0</td>\n",
       "      <td>0</td>\n",
       "      <td>5</td>\n",
       "      <td>5</td>\n",
       "      <td>0.0</td>\n",
       "      <td>0</td>\n",
       "    </tr>\n",
       "    <tr>\n",
       "      <th>4</th>\n",
       "      <td>Acct-000034</td>\n",
       "      <td>Opp-000012</td>\n",
       "      <td>36.0</td>\n",
       "      <td>0</td>\n",
       "      <td>0</td>\n",
       "      <td>2</td>\n",
       "      <td>2</td>\n",
       "      <td>5</td>\n",
       "      <td>2</td>\n",
       "      <td>75207</td>\n",
       "      <td>...</td>\n",
       "      <td>0.000000e+00</td>\n",
       "      <td>1248.820400</td>\n",
       "      <td>1900.795040</td>\n",
       "      <td>0.0</td>\n",
       "      <td>26388.0</td>\n",
       "      <td>0</td>\n",
       "      <td>6</td>\n",
       "      <td>0</td>\n",
       "      <td>1541759.0</td>\n",
       "      <td>1</td>\n",
       "    </tr>\n",
       "  </tbody>\n",
       "</table>\n",
       "<p>5 rows × 26 columns</p>\n",
       "</div>"
      ],
      "text/plain": [
       "    Account ID Opportunity ID  Term in Months  Service  Opportunity Type  \\\n",
       "0  Acct-000143     Opp-000004            -1.0        0                 0   \n",
       "1  Acct-000143     Opp-000005            -1.0        0                 0   \n",
       "2  Acct-000011     Opp-000006            -1.0        0                 0   \n",
       "3  Acct-000427     Opp-000011            36.0        0                 0   \n",
       "4  Acct-000034     Opp-000012            36.0        0                 0   \n",
       "\n",
       "   Product Group  Market  City  State  Postal Code     ...      AnnualRevenue  \\\n",
       "0              0       0     0      0        30309     ...       0.000000e+00   \n",
       "1              2       0     0      0        30309     ...       0.000000e+00   \n",
       "2              0       0     0      0        30303     ...       1.988192e+11   \n",
       "3              0       2     5      2        75207     ...       0.000000e+00   \n",
       "4              2       2     5      2        75207     ...       0.000000e+00   \n",
       "\n",
       "   X36 NRR List  X36 MRC List  Industry  Estimated Build Cost  \\\n",
       "0   1395.266259   2821.670576       0.0               15572.8   \n",
       "1   1395.266259   2821.670576       0.0               15572.8   \n",
       "2   1126.085581   1285.116977       0.0               11993.5   \n",
       "3   2351.832000   5066.962000       0.0               26388.0   \n",
       "4   1248.820400   1900.795040       0.0               26388.0   \n",
       "\n",
       "   Net Classification  Vertical  Type  Total BRR  Prediction  \n",
       "0                   0         3     3        0.0           0  \n",
       "1                   0         3     3        0.0           0  \n",
       "2                   0         2     2   683378.0           0  \n",
       "3                   0         5     5        0.0           0  \n",
       "4                   0         6     0  1541759.0           1  \n",
       "\n",
       "[5 rows x 26 columns]"
      ]
     },
     "execution_count": 16,
     "metadata": {},
     "output_type": "execute_result"
    }
   ],
   "source": [
    "predict_y = clf.predict(clf_unlabeled_data_df)\n",
    "\n",
    "# Prediction frame\n",
    "predict_y_df = pd.DataFrame(predict_y, columns=[\"Prediction\"])\n",
    "\n",
    "# test_data_id_df = pd.DataFrame(test_data_id, columns=[\"Opportunity ID\"])\n",
    "opportunities_id_df = pd.DataFrame(clf_unlabeled_data_id_dict[\"Opportunity ID\"], columns=[\"Opportunity ID\"])\n",
    "account_id_df = pd.DataFrame(clf_unlabeled_data_id_dict[\"Account ID\"], columns=[\"Account ID\"])\n",
    "\n",
    "\n",
    "predict_df = pd.concat([account_id_df, opportunities_id_df, clf_unlabeled_data_df, predict_y_df], axis=1)\n",
    "\n",
    "good_ops = predict_df[predict_df['Prediction'] == 1]\n",
    "bad_ops = predict_df[predict_df['Prediction'] == 0]\n",
    "\n",
    "good_ops_ids = good_ops[\"Opportunity ID\"]\n",
    "good_ops_ids_unique = good_ops_ids.unique()\n",
    "\n",
    "bad_ops_ids = bad_ops[\"Opportunity ID\"]\n",
    "bad_ops_ids_unique = bad_ops_ids.unique()\n",
    "\n",
    "num_good_ops = len(good_ops_ids_unique)\n",
    "num_bad_ops = len(bad_ops_ids_unique)\n",
    "print(\"Number of good opportunities: {}\".format(num_good_ops))\n",
    "print(\"Number of bad opportunities: {}\".format(num_bad_ops))\n",
    "\n",
    "predict_df.head(5)"
   ]
  },
  {
   "cell_type": "markdown",
   "metadata": {},
   "source": [
    "## Decode"
   ]
  },
  {
   "cell_type": "code",
   "execution_count": 17,
   "metadata": {
    "collapsed": false
   },
   "outputs": [],
   "source": [
    "predict_decode_df = predict_df.copy(deep=True)\n",
    "\n",
    "column_names = list(predict_decode_df.columns)\n",
    "\n",
    "# Encode string values to int values\n",
    "for column_name in column_names:\n",
    "    if column_name in encode_dict and column_name not in save_features:\n",
    "        current_series = predict_decode_df[column_name]\n",
    "        \n",
    "       \n",
    "        try:\n",
    "            new_series = pd.Series([decode_dict[column_name][int(val)] for val in current_series])\n",
    "            predict_decode_df[column_name] = new_series\n",
    "        except:\n",
    "            pass\n",
    "      \n",
    "\n",
    "positive_predict = predict_decode_df[predict_decode_df[\"Prediction\"] == 1]\n",
    "\n",
    "market_counts = positive_predict[\"Market\"].value_counts()\n",
    "profit_counts = positive_predict[\"X36 NPV List\"].value_counts()\n"
   ]
  },
  {
   "cell_type": "code",
   "execution_count": 18,
   "metadata": {
    "collapsed": false
   },
   "outputs": [
    {
     "data": {
      "image/png": "[encoded data removed]",
      "text/plain": [
       "<matplotlib.figure.Figure at 0x118057390>"
      ]
     },
     "metadata": {},
     "output_type": "display_data"
    }
   ],
   "source": [
    "market_counts[:10].plot(kind=\"bar\", rot=0, color=['#00ff00', '#00dd00', '#00aa00'])\n",
    "plt.title(\"Predicted New Opportunities Count vs. Market\")\n",
    "plt.show()"
   ]
  },
  {
   "cell_type": "markdown",
   "metadata": {},
   "source": [
    "# Prospective Profits per market"
   ]
  },
  {
   "cell_type": "code",
   "execution_count": 19,
   "metadata": {
    "collapsed": false
   },
   "outputs": [
    {
     "data": {
      "image/png": "[encoded data removed]",
      "text/plain": [
       "<matplotlib.figure.Figure at 0x11ab34908>"
      ]
     },
     "metadata": {},
     "output_type": "display_data"
    }
   ],
   "source": [
    "denver_profit_series = positive_predict[positive_predict[\"Market\"] == \"Denver\"]\n",
    "atlanta_profit_series = positive_predict[positive_predict[\"Market\"] == \"Atlanta\"]\n",
    "dallas_profit_series = positive_predict[positive_predict[\"Market\"] == \"Dallas\"]\n",
    "\n",
    "denver_profit = np.sum(denver_profit_series[\"X36 NPV List\"])\n",
    "atlanta_profit = np.sum(atlanta_profit_series[\"X36 NPV List\"])\n",
    "dallas_profit = np.sum(dallas_profit_series[\"X36 NPV List\"])\n",
    "\n",
    "profits = {\"Denver\" : denver_profit, \"Atlanta\" : atlanta_profit, \"Dallas\" : dallas_profit}\n",
    "\n",
    "profit_values = np.array(list(profits.values()))\n",
    "profit_keys = np.array(list(profits.keys()))\n",
    "# plt.bar(te, zw)\n",
    "\n",
    "\n",
    "\n",
    "indices = np.argsort(profit_values)[::-1]\n",
    "\n",
    "colors = np.array([\"#00ff00\", \"#00dd00\", \"#00bb00\"])\n",
    "\n",
    "plt.figure()\n",
    "plt.title(\"Predicted Profit ($USD) vs. Market\")\n",
    "plt.xlabel(\"Markets\")\n",
    "plt.ylabel(\"Profit ($USD)\")\n",
    "plt.bar([0,1,2], profit_values[indices],\n",
    "       color=colors, yerr=std[indices], align=\"center\")\n",
    "\n",
    "plt.xticks([0,1,2], profit_keys[indices], rotation='horizontal')\n",
    "plt.xlim([-1, 3])\n",
    "plt.show()\n",
    "\n"
   ]
  }
 ],
 "metadata": {
  "anaconda-cloud": {},
  "kernelspec": {
   "display_name": "Python [conda env:py3k]",
   "language": "python",
   "name": "conda-env-py3k-py"
  },
  "language_info": {
   "codemirror_mode": {
    "name": "ipython",
    "version": 3
   },
   "file_extension": ".py",
   "mimetype": "text/x-python",
   "name": "python",
   "nbconvert_exporter": "python",
   "pygments_lexer": "ipython3",
   "version": "3.5.2"
  }
 },
 "nbformat": 4,
 "nbformat_minor": 1
}
