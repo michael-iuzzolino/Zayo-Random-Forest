{
 "cells": [
  {
   "cell_type": "markdown",
   "metadata": {},
   "source": [
    "# Import Libraries"
   ]
  },
  {
   "cell_type": "code",
   "execution_count": 1,
   "metadata": {
    "collapsed": false
   },
   "outputs": [],
   "source": [
    "import pandas as pd\n",
    "import numpy as np\n",
    "\n",
    "import matplotlib.pyplot as plt\n",
    "from sklearn import ensemble\n",
    "from sklearn.tree import export_graphviz\n"
   ]
  },
  {
   "cell_type": "markdown",
   "metadata": {},
   "source": [
    "# Open CSV"
   ]
  },
  {
   "cell_type": "code",
   "execution_count": 2,
   "metadata": {
    "collapsed": false
   },
   "outputs": [],
   "source": [
    "opps = pd.read_csv(\"../data/concat_data.csv\")\n",
    "\n",
    "drop_col = opps.columns[0]\n",
    "\n",
    "if \"unnamed\" in drop_col.lower():\n",
    "    opps = opps.drop(drop_col, 1)\n",
    "\n"
   ]
  },
  {
   "cell_type": "markdown",
   "metadata": {},
   "source": [
    "* * *"
   ]
  },
  {
   "cell_type": "markdown",
   "metadata": {},
   "source": [
    "### Save Features before changes\n"
   ]
  },
  {
   "cell_type": "code",
   "execution_count": 3,
   "metadata": {
    "collapsed": false
   },
   "outputs": [],
   "source": [
    "save_features = {\n",
    "                    \"Opportunity ID\" : None,\n",
    "                    \"Account ID\" : None, \n",
    "                    \"Building ID\" : None,\n",
    "                    \"Latitude\" : None,\n",
    "                    \"Longitude\" : None\n",
    "                }\n",
    "\n",
    "for save_feature in save_features.keys():\n",
    "    save_series = opps[save_feature]\n",
    "    save_features[save_feature] = save_series"
   ]
  },
  {
   "cell_type": "markdown",
   "metadata": {},
   "source": [
    "## Encode String data to ints"
   ]
  },
  {
   "cell_type": "code",
   "execution_count": 4,
   "metadata": {
    "collapsed": false
   },
   "outputs": [
    {
     "data": {
      "text/html": [
       "<div>\n",
       "<table border=\"1\" class=\"dataframe\">\n",
       "  <thead>\n",
       "    <tr style=\"text-align: right;\">\n",
       "      <th></th>\n",
       "      <th>Opportunity ID</th>\n",
       "      <th>Account ID</th>\n",
       "      <th>StageName</th>\n",
       "      <th>IsClosed</th>\n",
       "      <th>IsWon</th>\n",
       "      <th>CreatedDate</th>\n",
       "      <th>Term in Months</th>\n",
       "      <th>Service</th>\n",
       "      <th>Opportunity Type</th>\n",
       "      <th>Product Group</th>\n",
       "      <th>...</th>\n",
       "      <th>X36 NRR List</th>\n",
       "      <th>Latitude</th>\n",
       "      <th>Type</th>\n",
       "      <th>Longitude</th>\n",
       "      <th>Net Classification</th>\n",
       "      <th>DandB Total Employees</th>\n",
       "      <th>AnnualRevenue</th>\n",
       "      <th>Estimated Build Cost</th>\n",
       "      <th>X36 MRC List</th>\n",
       "      <th>Total BRR</th>\n",
       "    </tr>\n",
       "  </thead>\n",
       "  <tbody>\n",
       "    <tr>\n",
       "      <th>0</th>\n",
       "      <td>Opp-000001</td>\n",
       "      <td>Acct-000007</td>\n",
       "      <td>Closed - Lost</td>\n",
       "      <td>True</td>\n",
       "      <td>False</td>\n",
       "      <td>0</td>\n",
       "      <td>12.0</td>\n",
       "      <td>0</td>\n",
       "      <td>0</td>\n",
       "      <td>0</td>\n",
       "      <td>...</td>\n",
       "      <td>1073.717164</td>\n",
       "      <td>33.755431</td>\n",
       "      <td>0</td>\n",
       "      <td>-84.391561</td>\n",
       "      <td>0</td>\n",
       "      <td>0.0</td>\n",
       "      <td>0.0</td>\n",
       "      <td>11993.5</td>\n",
       "      <td>1775.345373</td>\n",
       "      <td>1334080.00</td>\n",
       "    </tr>\n",
       "    <tr>\n",
       "      <th>1</th>\n",
       "      <td>Opp-000002</td>\n",
       "      <td>Acct-000986</td>\n",
       "      <td>5 - Accepted</td>\n",
       "      <td>True</td>\n",
       "      <td>True</td>\n",
       "      <td>0</td>\n",
       "      <td>60.0</td>\n",
       "      <td>0</td>\n",
       "      <td>0</td>\n",
       "      <td>1</td>\n",
       "      <td>...</td>\n",
       "      <td>4610.000000</td>\n",
       "      <td>34.035421</td>\n",
       "      <td>1</td>\n",
       "      <td>-84.060881</td>\n",
       "      <td>0</td>\n",
       "      <td>0.0</td>\n",
       "      <td>0.0</td>\n",
       "      <td>21243.7</td>\n",
       "      <td>3163.050000</td>\n",
       "      <td>2910.34</td>\n",
       "    </tr>\n",
       "    <tr>\n",
       "      <th>2</th>\n",
       "      <td>Opp-000002</td>\n",
       "      <td>Acct-000986</td>\n",
       "      <td>5 - Accepted</td>\n",
       "      <td>True</td>\n",
       "      <td>True</td>\n",
       "      <td>0</td>\n",
       "      <td>60.0</td>\n",
       "      <td>0</td>\n",
       "      <td>0</td>\n",
       "      <td>1</td>\n",
       "      <td>...</td>\n",
       "      <td>4610.000000</td>\n",
       "      <td>34.036374</td>\n",
       "      <td>2</td>\n",
       "      <td>-84.063305</td>\n",
       "      <td>1</td>\n",
       "      <td>0.0</td>\n",
       "      <td>0.0</td>\n",
       "      <td>17522.2</td>\n",
       "      <td>3163.050000</td>\n",
       "      <td>2910.34</td>\n",
       "    </tr>\n",
       "  </tbody>\n",
       "</table>\n",
       "<p>3 rows × 32 columns</p>\n",
       "</div>"
      ],
      "text/plain": [
       "  Opportunity ID   Account ID      StageName IsClosed  IsWon  CreatedDate  \\\n",
       "0     Opp-000001  Acct-000007  Closed - Lost     True  False            0   \n",
       "1     Opp-000002  Acct-000986   5 - Accepted     True   True            0   \n",
       "2     Opp-000002  Acct-000986   5 - Accepted     True   True            0   \n",
       "\n",
       "   Term in Months  Service  Opportunity Type  Product Group     ...      \\\n",
       "0            12.0        0                 0              0     ...       \n",
       "1            60.0        0                 0              1     ...       \n",
       "2            60.0        0                 0              1     ...       \n",
       "\n",
       "  X36 NRR List   Latitude  Type  Longitude  Net Classification  \\\n",
       "0  1073.717164  33.755431     0 -84.391561                   0   \n",
       "1  4610.000000  34.035421     1 -84.060881                   0   \n",
       "2  4610.000000  34.036374     2 -84.063305                   1   \n",
       "\n",
       "   DandB Total Employees  AnnualRevenue  Estimated Build Cost  X36 MRC List  \\\n",
       "0                    0.0            0.0               11993.5   1775.345373   \n",
       "1                    0.0            0.0               21243.7   3163.050000   \n",
       "2                    0.0            0.0               17522.2   3163.050000   \n",
       "\n",
       "    Total BRR  \n",
       "0  1334080.00  \n",
       "1     2910.34  \n",
       "2     2910.34  \n",
       "\n",
       "[3 rows x 32 columns]"
      ]
     },
     "execution_count": 4,
     "metadata": {},
     "output_type": "execute_result"
    }
   ],
   "source": [
    "column_names = list(opps.columns)\n",
    "\n",
    "encode_dict = {}\n",
    "decode_dict = {}\n",
    "\n",
    "# Encode string values to int values\n",
    "for column_name in column_names:\n",
    "    dtype = opps[column_name].dtype\n",
    "    if dtype == object:\n",
    "        \n",
    "        if column_name == \"StageName\" or column_name in save_features:\n",
    "            continue\n",
    "            \n",
    "        current_series = opps[column_name]\n",
    "        current_encode_dict = { key : int(index) for index, key in enumerate(current_series.unique())}\n",
    "        current_decode_dict = { int(index) : key  for index, key in enumerate(current_series.unique())}\n",
    "\n",
    "        \n",
    "        new_series = pd.Series([current_encode_dict[val] for val in current_series])\n",
    "        opps[column_name] = new_series\n",
    "        encode_dict[column_name] = current_encode_dict\n",
    "        decode_dict[column_name] = current_decode_dict\n",
    "\n",
    "opps.fillna(value=0)\n",
    "\n",
    "opps.head(3)\n"
   ]
  },
  {
   "cell_type": "markdown",
   "metadata": {},
   "source": [
    "# Feature Engineering\n",
    "\n",
    "Let's see what we're working with (the opps dataframe!)"
   ]
  },
  {
   "cell_type": "code",
   "execution_count": 5,
   "metadata": {
    "collapsed": false
   },
   "outputs": [
    {
     "data": {
      "text/plain": [
       "Index(['Opportunity ID', 'Account ID', 'StageName', 'IsClosed', 'IsWon',\n",
       "       'CreatedDate', 'Term in Months', 'Service', 'Opportunity Type',\n",
       "       'Product Group', 'Building ID', 'Market', 'Street Address', 'City',\n",
       "       'State', 'Postal Code', 'Network Proximity', 'On Zayo Network Status',\n",
       "       'NumberOfEmployees', 'Vertical', 'X36 NPV List', 'Industry',\n",
       "       'X36 NRR List', 'Latitude', 'Type', 'Longitude', 'Net Classification',\n",
       "       'DandB Total Employees', 'AnnualRevenue', 'Estimated Build Cost',\n",
       "       'X36 MRC List', 'Total BRR'],\n",
       "      dtype='object')"
      ]
     },
     "execution_count": 5,
     "metadata": {},
     "output_type": "execute_result"
    }
   ],
   "source": [
    "opps.columns"
   ]
  },
  {
   "cell_type": "markdown",
   "metadata": {},
   "source": [
    "### Dropped Features\n",
    "- Opportunity ID\n",
    "- Account ID\n",
    "- IsClosed\n",
    "- IsWon\n",
    "- CreatedDate\n",
    "- Building ID\n",
    "- Street Address\n",
    "- Longitude\n",
    "- Latitude\n",
    "- Service"
   ]
  },
  {
   "cell_type": "code",
   "execution_count": 6,
   "metadata": {
    "collapsed": false
   },
   "outputs": [],
   "source": [
    "drop_features = [\"IsClosed\", \"IsWon\", \"CreatedDate\", \"Street Address\", \"Longitude\", \"Latitude\", \"Opportunity ID\", \"Account ID\", \"Building ID\", \"Service\"]\n",
    "\n",
    "saved_features_df = opps[drop_features].copy()\n",
    "\n",
    "opps_dropped = opps.copy(deep=True)\n",
    "for drop_feature in drop_features:\n",
    "    opps_dropped = opps_dropped.drop(drop_feature, 1)\n"
   ]
  },
  {
   "cell_type": "markdown",
   "metadata": {},
   "source": [
    "#### Confirm Columns are Dropped"
   ]
  },
  {
   "cell_type": "code",
   "execution_count": 7,
   "metadata": {
    "collapsed": false
   },
   "outputs": [
    {
     "name": "stdout",
     "output_type": "stream",
     "text": [
      "Drop Successful!\n"
     ]
    }
   ],
   "source": [
    "drop_success = True\n",
    "for drop_feature in drop_features:\n",
    "    if drop_feature in opps_dropped.columns:\n",
    "        drop_success = False\n",
    "        break\n",
    "        \n",
    "print(\"Drop {}!\".format(\"Successful\" if drop_success else \"Unsuccessful\"))"
   ]
  },
  {
   "cell_type": "markdown",
   "metadata": {},
   "source": [
    "### Aggregate Features\n",
    "\n",
    "StageName "
   ]
  },
  {
   "cell_type": "code",
   "execution_count": 8,
   "metadata": {
    "collapsed": false
   },
   "outputs": [],
   "source": [
    "# Define stage_names series\n",
    "stage_names = opps_dropped[\"StageName\"]\n",
    "\n",
    "# Define sorting for stage names\n",
    "stage_name_sorter = {    \n",
    "                        \"Closed - Lost\" : 0, \n",
    "                        \"1 - Working\" : -1, \n",
    "                        \"2 - Best Case\" : -1, \n",
    "                        \"3 - Committed\" : 1, \n",
    "                        \"4 - Closed\" : 1, \n",
    "                        \"5 - Accepted\" : 1\n",
    "                    }\n",
    "\n",
    "# Loop through stage names and sort\n",
    "clf_data = []\n",
    "clf_unlabeled_data = []\n",
    "clf_unlabeled_data_id_dict = {}\n",
    "\n",
    "for save_feature in save_features:\n",
    "    clf_unlabeled_data_id_dict[save_feature] = []\n",
    "\n",
    "for index, stage_name in enumerate(stage_names):\n",
    "    classifier = stage_name_sorter[stage_name]\n",
    "    \n",
    "    # Save into unlabeled data\n",
    "    if classifier == -1:\n",
    "        clf_unlabeled_data.append(list(opps_dropped.loc[index][1:]))\n",
    "        for save_feature in save_features:\n",
    "            clf_unlabeled_data_id_dict[save_feature].append(save_features[save_feature][index])\n",
    "    \n",
    "    # Save for training data\n",
    "    else:\n",
    "        current_data = list(opps_dropped.loc[index][1:])\n",
    "        current_data.append(classifier)\n",
    "        clf_data.append(current_data)"
   ]
  },
  {
   "cell_type": "markdown",
   "metadata": {},
   "source": [
    "### Training Data Dataframe"
   ]
  },
  {
   "cell_type": "code",
   "execution_count": 9,
   "metadata": {
    "collapsed": false
   },
   "outputs": [
    {
     "data": {
      "text/html": [
       "<div>\n",
       "<table border=\"1\" class=\"dataframe\">\n",
       "  <thead>\n",
       "    <tr style=\"text-align: right;\">\n",
       "      <th></th>\n",
       "      <th>Term in Months</th>\n",
       "      <th>Opportunity Type</th>\n",
       "      <th>Product Group</th>\n",
       "      <th>Market</th>\n",
       "      <th>City</th>\n",
       "      <th>State</th>\n",
       "      <th>Postal Code</th>\n",
       "      <th>Network Proximity</th>\n",
       "      <th>On Zayo Network Status</th>\n",
       "      <th>NumberOfEmployees</th>\n",
       "      <th>...</th>\n",
       "      <th>Industry</th>\n",
       "      <th>X36 NRR List</th>\n",
       "      <th>Type</th>\n",
       "      <th>Net Classification</th>\n",
       "      <th>DandB Total Employees</th>\n",
       "      <th>AnnualRevenue</th>\n",
       "      <th>Estimated Build Cost</th>\n",
       "      <th>X36 MRC List</th>\n",
       "      <th>Total BRR</th>\n",
       "      <th>Y_Label</th>\n",
       "    </tr>\n",
       "  </thead>\n",
       "  <tbody>\n",
       "    <tr>\n",
       "      <th>0</th>\n",
       "      <td>12.0</td>\n",
       "      <td>0</td>\n",
       "      <td>0</td>\n",
       "      <td>0</td>\n",
       "      <td>0</td>\n",
       "      <td>0</td>\n",
       "      <td>30303</td>\n",
       "      <td>66.45</td>\n",
       "      <td>0</td>\n",
       "      <td>0.0</td>\n",
       "      <td>...</td>\n",
       "      <td>0</td>\n",
       "      <td>1073.717164</td>\n",
       "      <td>0</td>\n",
       "      <td>0</td>\n",
       "      <td>0.0</td>\n",
       "      <td>0.0</td>\n",
       "      <td>11993.5</td>\n",
       "      <td>1775.345373</td>\n",
       "      <td>1334080.00</td>\n",
       "      <td>0</td>\n",
       "    </tr>\n",
       "    <tr>\n",
       "      <th>1</th>\n",
       "      <td>60.0</td>\n",
       "      <td>0</td>\n",
       "      <td>1</td>\n",
       "      <td>0</td>\n",
       "      <td>1</td>\n",
       "      <td>0</td>\n",
       "      <td>30024</td>\n",
       "      <td>374.79</td>\n",
       "      <td>0</td>\n",
       "      <td>0.0</td>\n",
       "      <td>...</td>\n",
       "      <td>1</td>\n",
       "      <td>4610.000000</td>\n",
       "      <td>1</td>\n",
       "      <td>0</td>\n",
       "      <td>0.0</td>\n",
       "      <td>0.0</td>\n",
       "      <td>21243.7</td>\n",
       "      <td>3163.050000</td>\n",
       "      <td>2910.34</td>\n",
       "      <td>1</td>\n",
       "    </tr>\n",
       "    <tr>\n",
       "      <th>2</th>\n",
       "      <td>60.0</td>\n",
       "      <td>0</td>\n",
       "      <td>1</td>\n",
       "      <td>0</td>\n",
       "      <td>1</td>\n",
       "      <td>0</td>\n",
       "      <td>30024</td>\n",
       "      <td>250.74</td>\n",
       "      <td>0</td>\n",
       "      <td>0.0</td>\n",
       "      <td>...</td>\n",
       "      <td>1</td>\n",
       "      <td>4610.000000</td>\n",
       "      <td>2</td>\n",
       "      <td>1</td>\n",
       "      <td>0.0</td>\n",
       "      <td>0.0</td>\n",
       "      <td>17522.2</td>\n",
       "      <td>3163.050000</td>\n",
       "      <td>2910.34</td>\n",
       "      <td>1</td>\n",
       "    </tr>\n",
       "  </tbody>\n",
       "</table>\n",
       "<p>3 rows × 22 columns</p>\n",
       "</div>"
      ],
      "text/plain": [
       "   Term in Months  Opportunity Type  Product Group  Market  City  State  \\\n",
       "0            12.0                 0              0       0     0      0   \n",
       "1            60.0                 0              1       0     1      0   \n",
       "2            60.0                 0              1       0     1      0   \n",
       "\n",
       "   Postal Code  Network Proximity  On Zayo Network Status  NumberOfEmployees  \\\n",
       "0        30303              66.45                       0                0.0   \n",
       "1        30024             374.79                       0                0.0   \n",
       "2        30024             250.74                       0                0.0   \n",
       "\n",
       "    ...     Industry  X36 NRR List  Type  Net Classification  \\\n",
       "0   ...            0   1073.717164     0                   0   \n",
       "1   ...            1   4610.000000     1                   0   \n",
       "2   ...            1   4610.000000     2                   1   \n",
       "\n",
       "   DandB Total Employees  AnnualRevenue  Estimated Build Cost  X36 MRC List  \\\n",
       "0                    0.0            0.0               11993.5   1775.345373   \n",
       "1                    0.0            0.0               21243.7   3163.050000   \n",
       "2                    0.0            0.0               17522.2   3163.050000   \n",
       "\n",
       "    Total BRR  Y_Label  \n",
       "0  1334080.00        0  \n",
       "1     2910.34        1  \n",
       "2     2910.34        1  \n",
       "\n",
       "[3 rows x 22 columns]"
      ]
     },
     "execution_count": 9,
     "metadata": {},
     "output_type": "execute_result"
    }
   ],
   "source": [
    "# Declare column names and remove StageName\n",
    "column_names = list(opps_dropped.columns)\n",
    "del column_names[column_names.index(\"StageName\")]\n",
    "\n",
    "# Add \"Y_Label\" Column\n",
    "column_names.append(\"Y_Label\")\n",
    "\n",
    "# Define the unlabaled data dataframe\n",
    "clf_data_df = pd.DataFrame(clf_data, columns=column_names)\n",
    "\n",
    "# Fill NaN values\n",
    "clf_data_df = clf_data_df.fillna(value=0.0)\n",
    "\n",
    "clf_data_df.head(3)"
   ]
  },
  {
   "cell_type": "markdown",
   "metadata": {},
   "source": [
    "### Unlabeled Data Dataframe"
   ]
  },
  {
   "cell_type": "code",
   "execution_count": 10,
   "metadata": {
    "collapsed": false
   },
   "outputs": [
    {
     "data": {
      "text/html": [
       "<div>\n",
       "<table border=\"1\" class=\"dataframe\">\n",
       "  <thead>\n",
       "    <tr style=\"text-align: right;\">\n",
       "      <th></th>\n",
       "      <th>Term in Months</th>\n",
       "      <th>Opportunity Type</th>\n",
       "      <th>Product Group</th>\n",
       "      <th>Market</th>\n",
       "      <th>City</th>\n",
       "      <th>State</th>\n",
       "      <th>Postal Code</th>\n",
       "      <th>Network Proximity</th>\n",
       "      <th>On Zayo Network Status</th>\n",
       "      <th>NumberOfEmployees</th>\n",
       "      <th>...</th>\n",
       "      <th>X36 NPV List</th>\n",
       "      <th>Industry</th>\n",
       "      <th>X36 NRR List</th>\n",
       "      <th>Type</th>\n",
       "      <th>Net Classification</th>\n",
       "      <th>DandB Total Employees</th>\n",
       "      <th>AnnualRevenue</th>\n",
       "      <th>Estimated Build Cost</th>\n",
       "      <th>X36 MRC List</th>\n",
       "      <th>Total BRR</th>\n",
       "    </tr>\n",
       "  </thead>\n",
       "  <tbody>\n",
       "    <tr>\n",
       "      <th>0</th>\n",
       "      <td>0.0</td>\n",
       "      <td>0</td>\n",
       "      <td>0</td>\n",
       "      <td>0</td>\n",
       "      <td>0</td>\n",
       "      <td>0</td>\n",
       "      <td>30309</td>\n",
       "      <td>185.76</td>\n",
       "      <td>0</td>\n",
       "      <td>0.0</td>\n",
       "      <td>...</td>\n",
       "      <td>33413.167626</td>\n",
       "      <td>3</td>\n",
       "      <td>1395.266259</td>\n",
       "      <td>1</td>\n",
       "      <td>0</td>\n",
       "      <td>0.0</td>\n",
       "      <td>0.000000e+00</td>\n",
       "      <td>15572.8</td>\n",
       "      <td>2821.670576</td>\n",
       "      <td>0.0</td>\n",
       "    </tr>\n",
       "    <tr>\n",
       "      <th>1</th>\n",
       "      <td>0.0</td>\n",
       "      <td>0</td>\n",
       "      <td>2</td>\n",
       "      <td>0</td>\n",
       "      <td>0</td>\n",
       "      <td>0</td>\n",
       "      <td>30309</td>\n",
       "      <td>185.76</td>\n",
       "      <td>0</td>\n",
       "      <td>0.0</td>\n",
       "      <td>...</td>\n",
       "      <td>33413.167626</td>\n",
       "      <td>3</td>\n",
       "      <td>1395.266259</td>\n",
       "      <td>1</td>\n",
       "      <td>0</td>\n",
       "      <td>0.0</td>\n",
       "      <td>0.000000e+00</td>\n",
       "      <td>15572.8</td>\n",
       "      <td>2821.670576</td>\n",
       "      <td>0.0</td>\n",
       "    </tr>\n",
       "    <tr>\n",
       "      <th>2</th>\n",
       "      <td>0.0</td>\n",
       "      <td>0</td>\n",
       "      <td>0</td>\n",
       "      <td>0</td>\n",
       "      <td>0</td>\n",
       "      <td>0</td>\n",
       "      <td>30303</td>\n",
       "      <td>66.45</td>\n",
       "      <td>0</td>\n",
       "      <td>116000.0</td>\n",
       "      <td>...</td>\n",
       "      <td>23266.981628</td>\n",
       "      <td>2</td>\n",
       "      <td>1126.085581</td>\n",
       "      <td>0</td>\n",
       "      <td>0</td>\n",
       "      <td>116000.0</td>\n",
       "      <td>1.988192e+11</td>\n",
       "      <td>11993.5</td>\n",
       "      <td>1285.116977</td>\n",
       "      <td>683378.0</td>\n",
       "    </tr>\n",
       "  </tbody>\n",
       "</table>\n",
       "<p>3 rows × 21 columns</p>\n",
       "</div>"
      ],
      "text/plain": [
       "   Term in Months  Opportunity Type  Product Group  Market  City  State  \\\n",
       "0             0.0                 0              0       0     0      0   \n",
       "1             0.0                 0              2       0     0      0   \n",
       "2             0.0                 0              0       0     0      0   \n",
       "\n",
       "   Postal Code  Network Proximity  On Zayo Network Status  NumberOfEmployees  \\\n",
       "0        30309             185.76                       0                0.0   \n",
       "1        30309             185.76                       0                0.0   \n",
       "2        30303              66.45                       0           116000.0   \n",
       "\n",
       "     ...      X36 NPV List  Industry  X36 NRR List  Type  Net Classification  \\\n",
       "0    ...      33413.167626         3   1395.266259     1                   0   \n",
       "1    ...      33413.167626         3   1395.266259     1                   0   \n",
       "2    ...      23266.981628         2   1126.085581     0                   0   \n",
       "\n",
       "   DandB Total Employees  AnnualRevenue  Estimated Build Cost  X36 MRC List  \\\n",
       "0                    0.0   0.000000e+00               15572.8   2821.670576   \n",
       "1                    0.0   0.000000e+00               15572.8   2821.670576   \n",
       "2               116000.0   1.988192e+11               11993.5   1285.116977   \n",
       "\n",
       "   Total BRR  \n",
       "0        0.0  \n",
       "1        0.0  \n",
       "2   683378.0  \n",
       "\n",
       "[3 rows x 21 columns]"
      ]
     },
     "execution_count": 10,
     "metadata": {},
     "output_type": "execute_result"
    }
   ],
   "source": [
    "# Declare column names and remove StageName\n",
    "column_names = list(opps_dropped.columns)\n",
    "del column_names[column_names.index(\"StageName\")]\n",
    "\n",
    "# Define the unlabaled data dataframe\n",
    "clf_unlabeled_data_df = pd.DataFrame(clf_unlabeled_data, columns=column_names)\n",
    "\n",
    "# Fill NaN values\n",
    "clf_unlabeled_data_df = clf_unlabeled_data_df.fillna(value=0.0)\n",
    "\n",
    "clf_unlabeled_data_df.head(3)"
   ]
  },
  {
   "cell_type": "markdown",
   "metadata": {},
   "source": [
    "# Random Forest"
   ]
  },
  {
   "cell_type": "markdown",
   "metadata": {},
   "source": [
    "### Setup Classifier"
   ]
  },
  {
   "cell_type": "code",
   "execution_count": 62,
   "metadata": {
    "collapsed": true
   },
   "outputs": [],
   "source": [
    "tree_max_depths = [\"Default\", \"2\", \"4\", \"10\"]\n",
    "\n",
    "clf_default = ensemble.RandomForestClassifier(n_estimators=20)\n",
    "clf_depth_2 = ensemble.RandomForestClassifier(max_depth=2, n_estimators=20)\n",
    "clf_depth_4 = ensemble.RandomForestClassifier(max_depth=4, n_estimators=20)\n",
    "clf_depth_10 = ensemble.RandomForestClassifier(max_depth=10, n_estimators=20)\n",
    "\n",
    "clfs = [clf_default, clf_depth_2, clf_depth_4, clf_depth_10]"
   ]
  },
  {
   "cell_type": "markdown",
   "metadata": {},
   "source": [
    "## Setup Training Data and Fit Classifier"
   ]
  },
  {
   "cell_type": "code",
   "execution_count": 63,
   "metadata": {
    "collapsed": false
   },
   "outputs": [],
   "source": [
    "# Sample the clf data\n",
    "shuffled = clf_data_df.sample(frac=1)\n",
    "\n",
    "# Setup Features and Prediction columns\n",
    "features = list(clf_data_df.columns)\n",
    "del features[features.index(\"Y_Label\")]\n",
    "features_dict = { val:key for val, key in enumerate(features)}\n",
    "prediction = \"Y_Label\"\n",
    "\n",
    "# Set Fraction of data to take for training\n",
    "fraction = 9.0/10.0\n",
    "\n",
    "# Setup the Training data\n",
    "trainX = shuffled[features][:int(round(fraction*len(shuffled)))].values\n",
    "trainY = shuffled[prediction][:int(round(fraction*len(shuffled)))].values\n",
    "trainY = np.reshape(trainY, (len(trainY),))"
   ]
  },
  {
   "cell_type": "markdown",
   "metadata": {},
   "source": [
    "## Fit the Classifier"
   ]
  },
  {
   "cell_type": "code",
   "execution_count": 64,
   "metadata": {
    "collapsed": false
   },
   "outputs": [],
   "source": [
    "# Fit the classifier\n",
    "trained_clfs = [clf.fit(trainX, trainY) for clf in clfs]"
   ]
  },
  {
   "cell_type": "markdown",
   "metadata": {},
   "source": [
    "### Set test Data"
   ]
  },
  {
   "cell_type": "code",
   "execution_count": 65,
   "metadata": {
    "collapsed": false
   },
   "outputs": [],
   "source": [
    "testX = shuffled[features][int(round(fraction*len(shuffled))):].values\n",
    "testY = shuffled[prediction][int(round(fraction*len(shuffled))):].values"
   ]
  },
  {
   "cell_type": "markdown",
   "metadata": {},
   "source": [
    "## Score"
   ]
  },
  {
   "cell_type": "code",
   "execution_count": 80,
   "metadata": {
    "collapsed": false
   },
   "outputs": [
    {
     "name": "stdout",
     "output_type": "stream",
     "text": [
      "Random Forest: Max Depth = Default\n",
      "Training Data Accuracy: 0.9663418954827281\n",
      "Testing Data Accuracy: 0.8087649402390438\n",
      "\n",
      "\n",
      "Random Forest: Max Depth = 2\n",
      "Training Data Accuracy: 0.7484499557130204\n",
      "Testing Data Accuracy: 0.7450199203187251\n",
      "\n",
      "\n",
      "Random Forest: Max Depth = 4\n",
      "Training Data Accuracy: 0.787422497785651\n",
      "Testing Data Accuracy: 0.7450199203187251\n",
      "\n",
      "\n",
      "Random Forest: Max Depth = 10\n",
      "Training Data Accuracy: 0.8981399468556245\n",
      "Testing Data Accuracy: 0.8007968127490039\n",
      "\n",
      "\n"
     ]
    },
    {
     "data": {
      "image/png": "[encoded data removed]",
      "text/plain": [
       "<matplotlib.figure.Figure at 0x11b8bea20>"
      ]
     },
     "metadata": {},
     "output_type": "display_data"
    }
   ],
   "source": [
    "training_accuracies = [clf.score(trainX, trainY) for clf in trained_clfs]\n",
    "testing_accuracies = [clf.score(testX, testY) for clf in trained_clfs]\n",
    "\n",
    "for index, (clf_train_acc, clf_test_acc) in enumerate(zip(training_accuracies, testing_accuracies)):\n",
    "    print(\"Random Forest: Max Depth = {}\".format(tree_max_depths[index]))\n",
    "    print(\"Training Data Accuracy: {}\".format(clf_train_acc))\n",
    "    print(\"Testing Data Accuracy: {}\".format(clf_test_acc))\n",
    "    print(\"\\n\")\n",
    "\n",
    "plt.bar(np.arange(len(tree_max_depths)), training_accuracies, width=0.5)\n",
    "plt.xticks(np.arange(len(tree_max_depths))+0.25, tree_max_depths, rotation='horizontal')\n",
    "plt.title(\"Accuracy vs. Max Tree Depth\")\n",
    "plt.xlabel(\"Max Tree Depth\")\n",
    "plt.ylabel(\"Accuracy\")\n",
    "plt.xlim([-.5, 4])\n",
    "plt.show()\n"
   ]
  },
  {
   "cell_type": "markdown",
   "metadata": {},
   "source": [
    "## Create Tree Visualizations"
   ]
  },
  {
   "cell_type": "code",
   "execution_count": 67,
   "metadata": {
    "collapsed": false
   },
   "outputs": [],
   "source": [
    "# export_graphviz(clf, out_file=\"tree.dot\", class_names=[\"Sale\", \"No Sale\"], feature_names=features, impurity=False, filled=True)\n",
    "# ensemble.export_graphviz(clf, out_file=\"tree.dot\")\n",
    "clf = clfs[0]\n",
    "for index, tre in enumerate(clf.estimators_, 1):\n",
    "    export_graphviz(tre, out_file=\"../trees/tree{}.dot\".format(index), class_names=[\"Sale\", \"No Sale\"], feature_names=features, impurity=False, filled=True)"
   ]
  },
  {
   "cell_type": "markdown",
   "metadata": {},
   "source": [
    "## Feature Ranking Plot"
   ]
  },
  {
   "cell_type": "code",
   "execution_count": 68,
   "metadata": {
    "collapsed": false
   },
   "outputs": [
    {
     "name": "stdout",
     "output_type": "stream",
     "text": [
      "Feature ranking:\n",
      " 1. Term in Months                 0.1909\n",
      " 2. Total BRR                      0.1284\n",
      " 3. X36 NRR List                   0.0628\n",
      " 4. X36 NPV List                   0.0623\n",
      " 5. X36 MRC List                   0.0617\n",
      " 6. Product Group                  0.0550\n",
      " 7. Vertical                       0.0521\n",
      " 8. NumberOfEmployees              0.0423\n",
      " 9. Network Proximity              0.0415\n",
      "10. Postal Code                    0.0408\n",
      "11. Estimated Build Cost           0.0388\n",
      "12. AnnualRevenue                  0.0363\n",
      "13. DandB Total Employees          0.0353\n",
      "14. Industry                       0.0352\n",
      "15. City                           0.0294\n",
      "16. Type                           0.0275\n",
      "17. Net Classification             0.0141\n",
      "18. Opportunity Type               0.0140\n",
      "19. Market                         0.0129\n",
      "20. State                          0.0108\n",
      "21. On Zayo Network Status         0.0080\n"
     ]
    },
    {
     "data": {
      "image/png": "[encoded data removed]",
      "text/plain": [
       "<matplotlib.figure.Figure at 0x11b188b38>"
      ]
     },
     "metadata": {},
     "output_type": "display_data"
    }
   ],
   "source": [
    "# http://scikit-learn.org/stable/auto_examples/ensemble/plot_forest_importances.html\n",
    "importances = clf.feature_importances_\n",
    "std = np.std([tree.feature_importances_ for tree in clf.estimators_],\n",
    "             axis=0)\n",
    "\n",
    "indices = np.argsort(importances)[::-1]\n",
    "\n",
    "# Print the feature ranking\n",
    "print(\"Feature ranking:\")\n",
    "\n",
    "# Plot the feature importances of the forest\n",
    "x_labels = [features_dict[val] for val in indices]\n",
    "\n",
    "for f in range(trainX.shape[1]):\n",
    "    print(\"{:2d}. {:30s} {:0.4f}\".format(f + 1, x_labels[f], importances[indices[f]]))\n",
    "\n",
    "    \n",
    "\n",
    "\n",
    "\n",
    "plt.figure()\n",
    "plt.title(\"Feature importances\")\n",
    "plt.bar(range(trainX.shape[1]), importances[indices],\n",
    "       color=\"r\", yerr=std[indices], align=\"center\")\n",
    "plt.xticks(range(trainX.shape[1]), x_labels, rotation='vertical')\n",
    "plt.xlim([-1, trainX.shape[1]])\n",
    "plt.show()\n"
   ]
  },
  {
   "cell_type": "markdown",
   "metadata": {},
   "source": [
    "# Find the Accounts of Interest"
   ]
  },
  {
   "cell_type": "code",
   "execution_count": 69,
   "metadata": {
    "collapsed": false
   },
   "outputs": [
    {
     "data": {
      "text/html": [
       "<div>\n",
       "<table border=\"1\" class=\"dataframe\">\n",
       "  <thead>\n",
       "    <tr style=\"text-align: right;\">\n",
       "      <th></th>\n",
       "      <th>Term in Months</th>\n",
       "      <th>Opportunity Type</th>\n",
       "      <th>Product Group</th>\n",
       "      <th>Market</th>\n",
       "      <th>City</th>\n",
       "      <th>State</th>\n",
       "      <th>Postal Code</th>\n",
       "      <th>Network Proximity</th>\n",
       "      <th>On Zayo Network Status</th>\n",
       "      <th>NumberOfEmployees</th>\n",
       "      <th>...</th>\n",
       "      <th>X36 NPV List</th>\n",
       "      <th>Industry</th>\n",
       "      <th>X36 NRR List</th>\n",
       "      <th>Type</th>\n",
       "      <th>Net Classification</th>\n",
       "      <th>DandB Total Employees</th>\n",
       "      <th>AnnualRevenue</th>\n",
       "      <th>Estimated Build Cost</th>\n",
       "      <th>X36 MRC List</th>\n",
       "      <th>Total BRR</th>\n",
       "    </tr>\n",
       "  </thead>\n",
       "  <tbody>\n",
       "    <tr>\n",
       "      <th>0</th>\n",
       "      <td>0.0</td>\n",
       "      <td>0</td>\n",
       "      <td>0</td>\n",
       "      <td>0</td>\n",
       "      <td>0</td>\n",
       "      <td>0</td>\n",
       "      <td>30309</td>\n",
       "      <td>185.76</td>\n",
       "      <td>0</td>\n",
       "      <td>0.0</td>\n",
       "      <td>...</td>\n",
       "      <td>33413.167626</td>\n",
       "      <td>3</td>\n",
       "      <td>1395.266259</td>\n",
       "      <td>1</td>\n",
       "      <td>0</td>\n",
       "      <td>0.0</td>\n",
       "      <td>0.0</td>\n",
       "      <td>15572.8</td>\n",
       "      <td>2821.670576</td>\n",
       "      <td>0.0</td>\n",
       "    </tr>\n",
       "    <tr>\n",
       "      <th>1</th>\n",
       "      <td>0.0</td>\n",
       "      <td>0</td>\n",
       "      <td>2</td>\n",
       "      <td>0</td>\n",
       "      <td>0</td>\n",
       "      <td>0</td>\n",
       "      <td>30309</td>\n",
       "      <td>185.76</td>\n",
       "      <td>0</td>\n",
       "      <td>0.0</td>\n",
       "      <td>...</td>\n",
       "      <td>33413.167626</td>\n",
       "      <td>3</td>\n",
       "      <td>1395.266259</td>\n",
       "      <td>1</td>\n",
       "      <td>0</td>\n",
       "      <td>0.0</td>\n",
       "      <td>0.0</td>\n",
       "      <td>15572.8</td>\n",
       "      <td>2821.670576</td>\n",
       "      <td>0.0</td>\n",
       "    </tr>\n",
       "  </tbody>\n",
       "</table>\n",
       "<p>2 rows × 21 columns</p>\n",
       "</div>"
      ],
      "text/plain": [
       "   Term in Months  Opportunity Type  Product Group  Market  City  State  \\\n",
       "0             0.0                 0              0       0     0      0   \n",
       "1             0.0                 0              2       0     0      0   \n",
       "\n",
       "   Postal Code  Network Proximity  On Zayo Network Status  NumberOfEmployees  \\\n",
       "0        30309             185.76                       0                0.0   \n",
       "1        30309             185.76                       0                0.0   \n",
       "\n",
       "     ...      X36 NPV List  Industry  X36 NRR List  Type  Net Classification  \\\n",
       "0    ...      33413.167626         3   1395.266259     1                   0   \n",
       "1    ...      33413.167626         3   1395.266259     1                   0   \n",
       "\n",
       "   DandB Total Employees  AnnualRevenue  Estimated Build Cost  X36 MRC List  \\\n",
       "0                    0.0            0.0               15572.8   2821.670576   \n",
       "1                    0.0            0.0               15572.8   2821.670576   \n",
       "\n",
       "   Total BRR  \n",
       "0        0.0  \n",
       "1        0.0  \n",
       "\n",
       "[2 rows x 21 columns]"
      ]
     },
     "execution_count": 69,
     "metadata": {},
     "output_type": "execute_result"
    }
   ],
   "source": [
    "clf_unlabeled_data_df.head(2)"
   ]
  },
  {
   "cell_type": "markdown",
   "metadata": {},
   "source": [
    "## Get Predictions and make df"
   ]
  },
  {
   "cell_type": "code",
   "execution_count": 70,
   "metadata": {
    "collapsed": true
   },
   "outputs": [],
   "source": [
    "# Get predictions\n",
    "predict_y = clf.predict(clf_unlabeled_data_df)\n",
    "\n",
    "# Prediction frame\n",
    "predict_y_df = pd.DataFrame(predict_y, columns=[\"Prediction\"])"
   ]
  },
  {
   "cell_type": "markdown",
   "metadata": {},
   "source": [
    "## Add back saved features"
   ]
  },
  {
   "cell_type": "code",
   "execution_count": 71,
   "metadata": {
    "collapsed": false
   },
   "outputs": [
    {
     "data": {
      "text/html": [
       "<div>\n",
       "<table border=\"1\" class=\"dataframe\">\n",
       "  <thead>\n",
       "    <tr style=\"text-align: right;\">\n",
       "      <th></th>\n",
       "      <th>Latitude</th>\n",
       "      <th>Longitude</th>\n",
       "      <th>Account ID</th>\n",
       "      <th>Building ID</th>\n",
       "      <th>Opportunity ID</th>\n",
       "      <th>Term in Months</th>\n",
       "      <th>Opportunity Type</th>\n",
       "      <th>Product Group</th>\n",
       "      <th>Market</th>\n",
       "      <th>City</th>\n",
       "      <th>...</th>\n",
       "      <th>Industry</th>\n",
       "      <th>X36 NRR List</th>\n",
       "      <th>Type</th>\n",
       "      <th>Net Classification</th>\n",
       "      <th>DandB Total Employees</th>\n",
       "      <th>AnnualRevenue</th>\n",
       "      <th>Estimated Build Cost</th>\n",
       "      <th>X36 MRC List</th>\n",
       "      <th>Total BRR</th>\n",
       "      <th>Prediction</th>\n",
       "    </tr>\n",
       "  </thead>\n",
       "  <tbody>\n",
       "    <tr>\n",
       "      <th>0</th>\n",
       "      <td>33.783427</td>\n",
       "      <td>-84.388557</td>\n",
       "      <td>Acct-000143</td>\n",
       "      <td>Bldg-038068</td>\n",
       "      <td>Opp-000004</td>\n",
       "      <td>0.0</td>\n",
       "      <td>0</td>\n",
       "      <td>0</td>\n",
       "      <td>0</td>\n",
       "      <td>0</td>\n",
       "      <td>...</td>\n",
       "      <td>3</td>\n",
       "      <td>1395.266259</td>\n",
       "      <td>1</td>\n",
       "      <td>0</td>\n",
       "      <td>0.0</td>\n",
       "      <td>0.000000e+00</td>\n",
       "      <td>15572.8</td>\n",
       "      <td>2821.670576</td>\n",
       "      <td>0.0</td>\n",
       "      <td>0</td>\n",
       "    </tr>\n",
       "    <tr>\n",
       "      <th>1</th>\n",
       "      <td>33.783427</td>\n",
       "      <td>-84.388557</td>\n",
       "      <td>Acct-000143</td>\n",
       "      <td>Bldg-038068</td>\n",
       "      <td>Opp-000005</td>\n",
       "      <td>0.0</td>\n",
       "      <td>0</td>\n",
       "      <td>2</td>\n",
       "      <td>0</td>\n",
       "      <td>0</td>\n",
       "      <td>...</td>\n",
       "      <td>3</td>\n",
       "      <td>1395.266259</td>\n",
       "      <td>1</td>\n",
       "      <td>0</td>\n",
       "      <td>0.0</td>\n",
       "      <td>0.000000e+00</td>\n",
       "      <td>15572.8</td>\n",
       "      <td>2821.670576</td>\n",
       "      <td>0.0</td>\n",
       "      <td>0</td>\n",
       "    </tr>\n",
       "    <tr>\n",
       "      <th>2</th>\n",
       "      <td>33.755431</td>\n",
       "      <td>-84.391561</td>\n",
       "      <td>Acct-000011</td>\n",
       "      <td>Bldg-012582</td>\n",
       "      <td>Opp-000006</td>\n",
       "      <td>0.0</td>\n",
       "      <td>0</td>\n",
       "      <td>0</td>\n",
       "      <td>0</td>\n",
       "      <td>0</td>\n",
       "      <td>...</td>\n",
       "      <td>2</td>\n",
       "      <td>1126.085581</td>\n",
       "      <td>0</td>\n",
       "      <td>0</td>\n",
       "      <td>116000.0</td>\n",
       "      <td>1.988192e+11</td>\n",
       "      <td>11993.5</td>\n",
       "      <td>1285.116977</td>\n",
       "      <td>683378.0</td>\n",
       "      <td>0</td>\n",
       "    </tr>\n",
       "    <tr>\n",
       "      <th>3</th>\n",
       "      <td>32.800805</td>\n",
       "      <td>-96.819612</td>\n",
       "      <td>Acct-000427</td>\n",
       "      <td>Bldg-014866</td>\n",
       "      <td>Opp-000011</td>\n",
       "      <td>36.0</td>\n",
       "      <td>0</td>\n",
       "      <td>0</td>\n",
       "      <td>2</td>\n",
       "      <td>5</td>\n",
       "      <td>...</td>\n",
       "      <td>5</td>\n",
       "      <td>2351.832000</td>\n",
       "      <td>0</td>\n",
       "      <td>0</td>\n",
       "      <td>0.0</td>\n",
       "      <td>0.000000e+00</td>\n",
       "      <td>26388.0</td>\n",
       "      <td>5066.962000</td>\n",
       "      <td>0.0</td>\n",
       "      <td>1</td>\n",
       "    </tr>\n",
       "    <tr>\n",
       "      <th>4</th>\n",
       "      <td>32.800805</td>\n",
       "      <td>-96.819612</td>\n",
       "      <td>Acct-000034</td>\n",
       "      <td>Bldg-014866</td>\n",
       "      <td>Opp-000012</td>\n",
       "      <td>36.0</td>\n",
       "      <td>0</td>\n",
       "      <td>2</td>\n",
       "      <td>2</td>\n",
       "      <td>5</td>\n",
       "      <td>...</td>\n",
       "      <td>0</td>\n",
       "      <td>1248.820400</td>\n",
       "      <td>0</td>\n",
       "      <td>0</td>\n",
       "      <td>0.0</td>\n",
       "      <td>0.000000e+00</td>\n",
       "      <td>26388.0</td>\n",
       "      <td>1900.795040</td>\n",
       "      <td>1541759.0</td>\n",
       "      <td>1</td>\n",
       "    </tr>\n",
       "  </tbody>\n",
       "</table>\n",
       "<p>5 rows × 27 columns</p>\n",
       "</div>"
      ],
      "text/plain": [
       "    Latitude  Longitude   Account ID  Building ID Opportunity ID  \\\n",
       "0  33.783427 -84.388557  Acct-000143  Bldg-038068     Opp-000004   \n",
       "1  33.783427 -84.388557  Acct-000143  Bldg-038068     Opp-000005   \n",
       "2  33.755431 -84.391561  Acct-000011  Bldg-012582     Opp-000006   \n",
       "3  32.800805 -96.819612  Acct-000427  Bldg-014866     Opp-000011   \n",
       "4  32.800805 -96.819612  Acct-000034  Bldg-014866     Opp-000012   \n",
       "\n",
       "   Term in Months  Opportunity Type  Product Group  Market  City     ...      \\\n",
       "0             0.0                 0              0       0     0     ...       \n",
       "1             0.0                 0              2       0     0     ...       \n",
       "2             0.0                 0              0       0     0     ...       \n",
       "3            36.0                 0              0       2     5     ...       \n",
       "4            36.0                 0              2       2     5     ...       \n",
       "\n",
       "   Industry  X36 NRR List  Type  Net Classification  DandB Total Employees  \\\n",
       "0         3   1395.266259     1                   0                    0.0   \n",
       "1         3   1395.266259     1                   0                    0.0   \n",
       "2         2   1126.085581     0                   0               116000.0   \n",
       "3         5   2351.832000     0                   0                    0.0   \n",
       "4         0   1248.820400     0                   0                    0.0   \n",
       "\n",
       "   AnnualRevenue  Estimated Build Cost  X36 MRC List  Total BRR  Prediction  \n",
       "0   0.000000e+00               15572.8   2821.670576        0.0           0  \n",
       "1   0.000000e+00               15572.8   2821.670576        0.0           0  \n",
       "2   1.988192e+11               11993.5   1285.116977   683378.0           0  \n",
       "3   0.000000e+00               26388.0   5066.962000        0.0           1  \n",
       "4   0.000000e+00               26388.0   1900.795040  1541759.0           1  \n",
       "\n",
       "[5 rows x 27 columns]"
      ]
     },
     "execution_count": 71,
     "metadata": {},
     "output_type": "execute_result"
    }
   ],
   "source": [
    "# Reintroduce saved features\n",
    "df_concat_list = []\n",
    "for save_feature_id, feat_series in save_features.items():\n",
    "    new_df = pd.DataFrame(clf_unlabeled_data_id_dict[save_feature_id], columns=[save_feature_id])\n",
    "    df_concat_list.append(new_df)\n",
    "    \n",
    "df_concat_list.append(clf_unlabeled_data_df)\n",
    "df_concat_list.append(predict_y_df)\n",
    "\n",
    "# Concat and make predict df\n",
    "predict_df = pd.concat(df_concat_list, axis=1)\n",
    "\n",
    "predict_df.head(5)"
   ]
  },
  {
   "cell_type": "markdown",
   "metadata": {},
   "source": [
    "## Setup good and bad opportunities"
   ]
  },
  {
   "cell_type": "code",
   "execution_count": 72,
   "metadata": {
    "collapsed": false
   },
   "outputs": [
    {
     "name": "stdout",
     "output_type": "stream",
     "text": [
      "Number of good opportunities: 449\n",
      "Number of bad opportunities: 1333\n"
     ]
    }
   ],
   "source": [
    "good_ops = predict_df[predict_df['Prediction'] == 1]\n",
    "bad_ops = predict_df[predict_df['Prediction'] == 0]\n",
    "\n",
    "good_ops_ids = good_ops[\"Opportunity ID\"]\n",
    "good_ops_ids_unique = good_ops_ids.unique()\n",
    "\n",
    "bad_ops_ids = bad_ops[\"Opportunity ID\"]\n",
    "bad_ops_ids_unique = bad_ops_ids.unique()\n",
    "\n",
    "num_good_ops = len(good_ops_ids_unique)\n",
    "num_bad_ops = len(bad_ops_ids_unique)\n",
    "\n",
    "\n",
    "print(\"Number of good opportunities: {}\".format(num_good_ops))\n",
    "print(\"Number of bad opportunities: {}\".format(num_bad_ops))"
   ]
  },
  {
   "cell_type": "markdown",
   "metadata": {},
   "source": [
    "## Decode"
   ]
  },
  {
   "cell_type": "code",
   "execution_count": 73,
   "metadata": {
    "collapsed": false
   },
   "outputs": [],
   "source": [
    "predict_decode_df = predict_df.copy(deep=True)\n",
    "\n",
    "column_names = list(predict_decode_df.columns)\n",
    "\n",
    "# Encode string values to int values\n",
    "for column_name in column_names:\n",
    "    if column_name in encode_dict and column_name not in save_features:\n",
    "        current_series = predict_decode_df[column_name]\n",
    "       \n",
    "        try:\n",
    "            new_series = pd.Series([decode_dict[column_name][int(val)] for val in current_series])\n",
    "            predict_decode_df[column_name] = new_series\n",
    "        except:\n",
    "            pass\n",
    "\n",
    "\"\"\" Positive Prediction \"\"\"\n",
    "positive_predict = predict_decode_df[predict_decode_df[\"Prediction\"] == 1]\n",
    "\n",
    "gained_market_counts = positive_predict[\"Market\"].value_counts()\n",
    "gained_profit_counts = positive_predict[\"X36 NPV List\"].value_counts()\n",
    "\n",
    "\"\"\" Negative Prediction \"\"\"\n",
    "negative_predict = predict_decode_df[predict_decode_df[\"Prediction\"] == 0]\n",
    "\n",
    "lost_market_counts = negative_predict[\"Market\"].value_counts()\n",
    "lost_profit_counts = negative_predict[\"X36 NPV List\"].value_counts()"
   ]
  },
  {
   "cell_type": "code",
   "execution_count": 74,
   "metadata": {
    "collapsed": false
   },
   "outputs": [
    {
     "data": {
      "text/plain": [
       "Dallas     853\n",
       "Atlanta    767\n",
       "Denver     590\n",
       "Name: Market, dtype: int64"
      ]
     },
     "execution_count": 74,
     "metadata": {},
     "output_type": "execute_result"
    }
   ],
   "source": [
    "lost_market_counts"
   ]
  },
  {
   "cell_type": "code",
   "execution_count": 75,
   "metadata": {
    "collapsed": false
   },
   "outputs": [
    {
     "data": {
      "text/html": [
       "<div>\n",
       "<table border=\"1\" class=\"dataframe\">\n",
       "  <thead>\n",
       "    <tr style=\"text-align: right;\">\n",
       "      <th></th>\n",
       "      <th>Accepted Predictions</th>\n",
       "      <th>Closed Predictions</th>\n",
       "    </tr>\n",
       "  </thead>\n",
       "  <tbody>\n",
       "    <tr>\n",
       "      <th>Atlanta</th>\n",
       "      <td>153</td>\n",
       "      <td>767</td>\n",
       "    </tr>\n",
       "    <tr>\n",
       "      <th>Dallas</th>\n",
       "      <td>258</td>\n",
       "      <td>853</td>\n",
       "    </tr>\n",
       "    <tr>\n",
       "      <th>Denver</th>\n",
       "      <td>215</td>\n",
       "      <td>590</td>\n",
       "    </tr>\n",
       "  </tbody>\n",
       "</table>\n",
       "</div>"
      ],
      "text/plain": [
       "         Accepted Predictions  Closed Predictions\n",
       "Atlanta                   153                 767\n",
       "Dallas                    258                 853\n",
       "Denver                    215                 590"
      ]
     },
     "execution_count": 75,
     "metadata": {},
     "output_type": "execute_result"
    }
   ],
   "source": [
    "# https://chrisalbon.com/python/matplotlib_percentage_stacked_bar_plot.html\n",
    "\n",
    "raw_data = {'Accepted Predictions': gained_market_counts,\n",
    "            'Closed Predictions': lost_market_counts}\n",
    "df = pd.DataFrame(raw_data, columns = ['Accepted Predictions', 'Closed Predictions'])\n",
    "df"
   ]
  },
  {
   "cell_type": "code",
   "execution_count": 76,
   "metadata": {
    "collapsed": false
   },
   "outputs": [
    {
     "data": {
      "image/png": "[encoded data removed]",
      "text/plain": [
       "<matplotlib.figure.Figure at 0x11b1a5470>"
      ]
     },
     "metadata": {},
     "output_type": "display_data"
    }
   ],
   "source": [
    "\n",
    "# Create a figure with a single subplot\n",
    "f, ax = plt.subplots(1, figsize=(10,5))\n",
    "\n",
    "# Set bar width at 1\n",
    "bar_width = 0.5\n",
    "\n",
    "# positions of the left bar-boundaries\n",
    "bar_l = [i for i in range(len(df['Accepted Predictions']))]\n",
    "\n",
    "# positions of the x-axis ticks (center of the bars as bar labels)\n",
    "tick_pos = [i+(bar_width/2) for i in bar_l]\n",
    "\n",
    "# Create the total score for each participant\n",
    "totals = [i+j for i,j in zip(df['Accepted Predictions'], df['Closed Predictions'])]\n",
    "\n",
    "\n",
    "# Create the percentage of the total score the pre_score value \n",
    "gained_rel = [i / j * 100 for  i,j in zip(df['Accepted Predictions'], totals)]\n",
    "\n",
    "# Create the percentage of the total score the mid_score value\n",
    "lost_rel = [i / j * 100 for  i,j in zip(df['Closed Predictions'], totals)]\n",
    "\n",
    "\n",
    "# Create a bar chart in position bar_1\n",
    "ax.bar(bar_l,\n",
    "       # using pre_rel data\n",
    "       gained_rel,\n",
    "       # labeled\n",
    "       label='Gained',\n",
    "       # with alpha\n",
    "       alpha=0.9,\n",
    "       # with color\n",
    "       color='#00ff00',\n",
    "       # with bar width\n",
    "       width=bar_width,\n",
    "       # with border color\n",
    "       edgecolor='black'\n",
    "       )\n",
    "\n",
    "# Create a bar chart in position bar_1\n",
    "ax.bar(bar_l,\n",
    "       # using mid_rel data\n",
    "       lost_rel,\n",
    "       # with pre_rel\n",
    "       bottom=gained_rel,\n",
    "       # labeled\n",
    "       label='Lost',\n",
    "       # with alpha\n",
    "       alpha=0.9,\n",
    "       # with color\n",
    "       color='#ff6666',\n",
    "       # with bar width\n",
    "       width=bar_width,\n",
    "       # with border color\n",
    "       edgecolor='black'\n",
    "       )\n",
    "\n",
    "\n",
    "\n",
    "market_labels = list(df.index)\n",
    "\n",
    "# Set the ticks to be first names\n",
    "plt.xticks(tick_pos, market_labels)\n",
    "ax.set_ylabel(\"Percentage\")\n",
    "ax.set_xlabel(\"\")\n",
    "\n",
    "# Let the borders of the graphic\n",
    "plt.xlim([min(tick_pos)-bar_width, max(tick_pos)+bar_width])\n",
    "plt.ylim(-10, 110)\n",
    "\n",
    "# rotate axis labels\n",
    "plt.setp(plt.gca().get_xticklabels(), rotation=0, horizontalalignment='center')\n",
    "\n",
    "# shot plot\n",
    "plt.show()\n"
   ]
  },
  {
   "cell_type": "code",
   "execution_count": 77,
   "metadata": {
    "collapsed": false
   },
   "outputs": [
    {
     "data": {
      "image/png": "[encoded data removed]",
      "text/plain": [
       "<matplotlib.figure.Figure at 0x11b18b080>"
      ]
     },
     "metadata": {},
     "output_type": "display_data"
    }
   ],
   "source": [
    "gained_market_counts[:10].plot(kind=\"bar\", rot=0, color=['#00ff00', '#00dd00', '#00aa00'])\n",
    "plt.title(\"Accepted Opportunities Prediction Count vs. Market\")\n",
    "plt.xlabel(\"Markets\")\n",
    "plt.ylabel(\"Accepted Opportunities Count\")\n",
    "plt.show()"
   ]
  },
  {
   "cell_type": "markdown",
   "metadata": {},
   "source": [
    "# Prospective Profits per market"
   ]
  },
  {
   "cell_type": "code",
   "execution_count": 78,
   "metadata": {
    "collapsed": false
   },
   "outputs": [
    {
     "data": {
      "image/png": "[encoded data removed]",
      "text/plain": [
       "<matplotlib.figure.Figure at 0x11b38b5f8>"
      ]
     },
     "metadata": {},
     "output_type": "display_data"
    }
   ],
   "source": [
    "denver_profit_series = positive_predict[positive_predict[\"Market\"] == \"Denver\"]\n",
    "atlanta_profit_series = positive_predict[positive_predict[\"Market\"] == \"Atlanta\"]\n",
    "dallas_profit_series = positive_predict[positive_predict[\"Market\"] == \"Dallas\"]\n",
    "\n",
    "denver_profit = np.sum(denver_profit_series[\"X36 NPV List\"])\n",
    "atlanta_profit = np.sum(atlanta_profit_series[\"X36 NPV List\"])\n",
    "dallas_profit = np.sum(dallas_profit_series[\"X36 NPV List\"])\n",
    "\n",
    "profits = {\"Denver\" : denver_profit, \"Atlanta\" : atlanta_profit, \"Dallas\" : dallas_profit}\n",
    "\n",
    "profit_values = np.array(list(profits.values()))\n",
    "profit_keys = np.array(list(profits.keys()))\n",
    "\n",
    "indices = np.argsort(profit_values)[::-1]\n",
    "\n",
    "colors = np.array([\"#00ff00\", \"#00dd00\", \"#00bb00\"])\n",
    "\n",
    "plt.figure()\n",
    "plt.title(\"Predicted Profit ($USD) vs. Market\")\n",
    "plt.xlabel(\"Markets\")\n",
    "plt.ylabel(\"Profit ($USD)\")\n",
    "plt.bar([0,1,2], profit_values[indices],\n",
    "       color=colors, yerr=std[indices], align=\"center\")\n",
    "\n",
    "plt.xticks([0,1,2], profit_keys[indices], rotation='horizontal')\n",
    "plt.xlim([-1, 3])\n",
    "plt.show()"
   ]
  },
  {
   "cell_type": "markdown",
   "metadata": {},
   "source": [
    "# Write to JSON"
   ]
  },
  {
   "cell_type": "code",
   "execution_count": 79,
   "metadata": {
    "collapsed": false
   },
   "outputs": [],
   "source": [
    "positive_predict.to_json(\"../json/positive_predictions.json\")\n",
    "negative_predict.to_json(\"../json/negative_predictions.json\")"
   ]
  }
 ],
 "metadata": {
  "anaconda-cloud": {},
  "kernelspec": {
   "display_name": "Python [conda env:py3k]",
   "language": "python",
   "name": "conda-env-py3k-py"
  },
  "language_info": {
   "codemirror_mode": {
    "name": "ipython",
    "version": 3
   },
   "file_extension": ".py",
   "mimetype": "text/x-python",
   "name": "python",
   "nbconvert_exporter": "python",
   "pygments_lexer": "ipython3",
   "version": "3.5.2"
  }
 },
 "nbformat": 4,
 "nbformat_minor": 1
}
